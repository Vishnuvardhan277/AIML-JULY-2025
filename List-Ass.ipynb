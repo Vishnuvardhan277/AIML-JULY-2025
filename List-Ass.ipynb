{
 "cells": [
  {
   "cell_type": "code",
   "execution_count": 1,
   "id": "f39f6954-de51-4a9d-9aa4-59061be068b8",
   "metadata": {},
   "outputs": [
    {
     "name": "stdout",
     "output_type": "stream",
     "text": [
      "[1, 4, 9, 16, 25, 36, 49, 64, 81, 100]\n"
     ]
    }
   ],
   "source": [
    "# Question 1: Create a list of first 10 square numbers\n",
    "squares = [i**2 for i in range(1, 11)]\n",
    "print(squares)"
   ]
  },
  {
   "cell_type": "code",
   "execution_count": 2,
   "id": "3fe6cb2d-1170-442e-8c71-1646729e881f",
   "metadata": {},
   "outputs": [
    {
     "name": "stdout",
     "output_type": "stream",
     "text": [
      "Sum of even numbers: 30\n"
     ]
    }
   ],
   "source": [
    "# Question 2: Find the sum of all even numbers in [1, 2, 3, 4, 5, 6, 7, 8, 9, 10]\n",
    "print(\"Sum of even numbers:\", sum(i for i in range(1, 11) if i % 2 == 0))\n"
   ]
  },
  {
   "cell_type": "code",
   "execution_count": null,
   "id": "318e1711-abaa-4536-a119-e21124bbb406",
   "metadata": {},
   "outputs": [
    {
     "name": "stdout",
     "output_type": "stream",
     "text": [
      "List without duplicates: [1, 2, 3, 4, 5, 6, 7]\n"
     ]
    }
   ],
   "source": [
    "# Question 3: Remove duplicates from [1, 2, 2, 3, 4, 4, 5, 6, 6, 7]\n",
    "print(\"List without duplicates:\", list(set([1, 2, 2, 3, 4, 4, 5, 6, 6, 7])))"
   ]
  },
  {
   "cell_type": "code",
   "execution_count": 10,
   "id": "9ac2e2c5-f083-4573-b336-63b9c7d47829",
   "metadata": {},
   "outputs": [
    {
     "name": "stdout",
     "output_type": "stream",
     "text": [
      "Sorted list in descending order: [90, 64, 34, 25, 22, 12, 11]\n"
     ]
    }
   ],
   "source": [
    "\n",
    "# Question 4: Sort the list [64, 34, 25, 12, 22, 11, 90] in descending order\n",
    "print(\"Sorted list in descending order:\", sorted([64, 34, 25, 12, 22, 11, 90], reverse=True))\n"
   ]
  },
  {
   "cell_type": "code",
   "execution_count": 5,
   "id": "8f4d88c9-0a31-4d38-a6e2-16853b5ea0dd",
   "metadata": {},
   "outputs": [
    {
     "name": "stdout",
     "output_type": "stream",
     "text": [
      "Average of numbers: 48.0\n"
     ]
    }
   ],
   "source": [
    "# Question 5: Find the average of numbers in [15, 23, 31, 42, 56, 78, 91]\n",
    "print(\"Average of numbers:\", sum([15, 23, 31, 42, 56, 78, 91]) / len([15, 23, 31, 42, 56, 78, 91]))"
   ]
  },
  {
   "cell_type": "code",
   "execution_count": 6,
   "id": "99753376-f258-4573-9abd-828b6dc9738c",
   "metadata": {},
   "outputs": [
    {
     "name": "stdout",
     "output_type": "stream",
     "text": [
      "First 15 Fibonacci numbers: [0, 1, 1, 2, 3, 5, 8, 13, 21, 34, 55, 89, 144, 233, 377]\n"
     ]
    }
   ],
   "source": [
    "# Question 6: Create a list of first 15 Fibonacci numbers\n",
    "fibonacci = [0, 1]\n",
    "for i in range(2, 15):\n",
    "    fibonacci.append(fibonacci[i-1] + fibonacci[i-2])\n",
    "print(\"First 15 Fibonacci numbers:\", fibonacci)"
   ]
  },
  {
   "cell_type": "code",
   "execution_count": 7,
   "id": "f4aeb634-e944-492b-8786-3c607130226d",
   "metadata": {},
   "outputs": [
    {
     "name": "stdout",
     "output_type": "stream",
     "text": [
      "Second largest number: 78\n"
     ]
    }
   ],
   "source": [
    "\n",
    "# Question 7: Find the second largest number in [45, 67, 23, 89, 12, 34, 78]\n",
    "print(\"Second largest number:\", sorted(set([45, 67, 23, 89, 12, 34, 78]), reverse=True)[1])"
   ]
  },
  {
   "cell_type": "code",
   "execution_count": 12,
   "id": "d5ec0af0-15ec-4b45-a1d6-dd605f5610c8",
   "metadata": {},
   "outputs": [
    {
     "name": "stdout",
     "output_type": "stream",
     "text": [
      "Reversed list: [10, 9, 8, 7, 6, 5, 4, 3, 2, 1]\n"
     ]
    }
   ],
   "source": [
    "# Question 8: Reverse the list [1, 2, 3, 4, 5, 6, 7, 8, 9, 10]\n",
    "x = [1, 2, 3, 4, 5, 6, 7, 8, 9, 10]\n",
    "x.reverse()\n",
    "print(\"Reversed list:\", x) "
   ]
  },
  {
   "cell_type": "code",
   "execution_count": 13,
   "id": "5a729f5b-7c42-464d-96a1-d6402456c753",
   "metadata": {},
   "outputs": [
    {
     "name": "stdout",
     "output_type": "stream",
     "text": [
      "Count of 5: 4\n"
     ]
    }
   ],
   "source": [
    "# Question 9: Count how many times 5 appears in [1, 5, 2, 5, 3, 5, 4, 5, 6]\n",
    "x = [1, 5, 2, 5, 3, 5, 4, 5, 6]\n",
    "print(\"Count of 5:\", x.count(5))"
   ]
  },
  {
   "cell_type": "code",
   "execution_count": 14,
   "id": "2b893a5e-b169-45d3-9f22-41dd56f07fcb",
   "metadata": {},
   "outputs": [
    {
     "name": "stdout",
     "output_type": "stream",
     "text": [
      "List of prime numbers between 1 and 50: [2, 3, 5, 7, 11, 13, 17, 19, 23, 29, 31, 37, 41, 43, 47]\n"
     ]
    }
   ],
   "source": [
    "# Question 10: Create a list of prime numbers between 1 and 50\n",
    "print(\"List of prime numbers between 1 and 50:\", [num for num in range(2, 51) if all(num % i != 0 for i in range(2, int(num**0.5) + 1))])\n"
   ]
  },
  {
   "cell_type": "code",
   "execution_count": 15,
   "id": "b6b3fd94-17f2-4361-b9bf-689981d8994b",
   "metadata": {},
   "outputs": [
    {
     "name": "stdout",
     "output_type": "stream",
     "text": [
      "Common elements: [4, 5]\n"
     ]
    }
   ],
   "source": [
    "# Question 12: Find common elements between [1, 2, 3, 4, 5] and [4, 5, 6, 7, 8]\n",
    "list1 = [1, 2, 3, 4, 5]\n",
    "list2 = [4, 5, 6, 7, 8]\n",
    "print(\"Common elements:\", [value for value in list1 if value in list2])"
   ]
  },
  {
   "cell_type": "code",
   "execution_count": 41,
   "id": "4103690e-56a6-43c5-be0d-ba4ecdc1ca76",
   "metadata": {},
   "outputs": [
    {
     "name": "stdout",
     "output_type": "stream",
     "text": [
      "\n",
      "Question 14: Find the sum of each sublist in [[1, 2, 3], [4, 5, 6], [7, 8, 9]]\n"
     ]
    }
   ],
   "source": [
    "# Question 14: Find the sum of each sublist in [[1, 2, 3], [4, 5, 6], [7, 8, 9]]\n",
    "\n",
    "print(\"\\nQuestion 14: Find the sum of each sublist in [[1, 2, 3], [4, 5, 6], [7, 8, 9]]\")"
   ]
  },
  {
   "cell_type": "code",
   "execution_count": 48,
   "id": "4cf0199d-fbcf-43e0-a9e4-4a51a3551567",
   "metadata": {},
   "outputs": [
    {
     "name": "stdout",
     "output_type": "stream",
     "text": [
      "[6, 15, 24]\n"
     ]
    }
   ],
   "source": [
    "x=[[1, 2, 3], [4, 5, 6], [7, 8, 9]]\n",
    "y=[sum(sublist)for sublist in x]\n",
    "print(y)"
   ]
  },
  {
   "cell_type": "code",
   "execution_count": 49,
   "id": "88253e18-b11f-4f86-8ce1-268b50364d75",
   "metadata": {},
   "outputs": [
    {
     "name": "stdout",
     "output_type": "stream",
     "text": [
      "\n",
      "Question 15: Transpose the matrix [[1, 2, 3], [4, 5, 6], [7, 8, 9]]\n"
     ]
    }
   ],
   "source": [
    "# Question 15: Transpose the matrix [[1, 2, 3], [4, 5, 6], [7, 8, 9]]\n",
    "print(\"\\nQuestion 15: Transpose the matrix [[1, 2, 3], [4, 5, 6], [7, 8, 9]]\")"
   ]
  },
  {
   "cell_type": "code",
   "execution_count": 50,
   "id": "275e34d2-13dd-4f46-abe2-daca995f486c",
   "metadata": {},
   "outputs": [
    {
     "name": "stdout",
     "output_type": "stream",
     "text": [
      "\n",
      "Question 16: Find the maximum value in each sublist of [[1, 5, 3], [9, 2, 7], [4, 8, 6]]\n"
     ]
    }
   ],
   "source": [
    "# Question 16: Find the maximum value in each sublist of [[1, 5, 3], [9, 2, 7], [4, 8, 6]]\n",
    "print(\"\\nQuestion 16: Find the maximum value in each sublist of [[1, 5, 3], [9, 2, 7], [4, 8, 6]]\")"
   ]
  },
  {
   "cell_type": "code",
   "execution_count": 52,
   "id": "e481d2f0-2cb4-4a31-ba72-902134d2596a",
   "metadata": {},
   "outputs": [
    {
     "name": "stdout",
     "output_type": "stream",
     "text": [
      "[5, 9, 8]\n"
     ]
    }
   ],
   "source": [
    "x= [[1, 5, 3], [9, 2, 7], [4, 8, 6]]\n",
    "y=[max(sublist)for sublist in x]\n",
    "print(y)"
   ]
  },
  {
   "cell_type": "code",
   "execution_count": 53,
   "id": "c9ca181f-32a4-42a5-a49d-56ddb772e6bd",
   "metadata": {},
   "outputs": [
    {
     "name": "stdout",
     "output_type": "stream",
     "text": [
      "\n",
      "Question 17: Create a 3D list: [[[1, 2], [3, 4]], [[5, 6], [7, 8]]]\n"
     ]
    }
   ],
   "source": [
    "# Question 17: Create a 3D list: [[[1, 2], [3, 4]], [[5, 6], [7, 8]]]\n",
    "print(\"\\nQuestion 17: Create a 3D list: [[[1, 2], [3, 4]], [[5, 6], [7, 8]]]\")"
   ]
  },
  {
   "cell_type": "code",
   "execution_count": 55,
   "id": "beb934e4-ccdd-40eb-87f2-f186e2bc5fa2",
   "metadata": {},
   "outputs": [
    {
     "name": "stdout",
     "output_type": "stream",
     "text": [
      "\n",
      "Question 19: Extract all even numbers from nested list [[1, 2, 3], [4, 5, 6], [7, 8, 9]]\n"
     ]
    }
   ],
   "source": [
    "# Question 19: Extract all even numbers from nested list [[1, 2, 3], [4, 5, 6], [7, 8, 9]]\n",
    "print(\"\\nQuestion 19: Extract all even numbers from nested list [[1, 2, 3], [4, 5, 6], [7, 8, 9]]\")"
   ]
  },
  {
   "cell_type": "code",
   "execution_count": 57,
   "id": "5ff73e74-52bb-49da-923f-715fda70338f",
   "metadata": {},
   "outputs": [
    {
     "name": "stdout",
     "output_type": "stream",
     "text": [
      "[2, 4, 6, 8]\n"
     ]
    }
   ],
   "source": [
    "x=[[1, 2, 3], [4, 5, 6], [7, 8, 9]]\n",
    "y=[num for sublist in x for num in sublist if num % 2==0]\n",
    "print(y)"
   ]
  },
  {
   "cell_type": "code",
   "execution_count": 58,
   "id": "cfe561c0-2cd6-459b-a7fd-47e95c158edb",
   "metadata": {},
   "outputs": [
    {
     "name": "stdout",
     "output_type": "stream",
     "text": [
      "\n",
      "Question 20: Create a list of mixed data types: [1, 'hello', 3.14, True, [1, 2, 3]]\n"
     ]
    }
   ],
   "source": [
    "# Question 20: Create a list of mixed data types: [1, \"hello\", 3.14, True, [1, 2, 3]]\n",
    "print(\"\\nQuestion 20: Create a list of mixed data types: [1, 'hello', 3.14, True, [1, 2, 3]]\")"
   ]
  },
  {
   "cell_type": "code",
   "execution_count": 61,
   "id": "a3d2de30-a66b-4e5e-a289-a3547f1fb01e",
   "metadata": {},
   "outputs": [
    {
     "name": "stdout",
     "output_type": "stream",
     "text": [
      "(<class 'int'>, <class 'str'>, <class 'float'>, <class 'bool'>, <class 'list'>)\n"
     ]
    }
   ],
   "source": [
    "x= [1, 'hello', 3.14, True, [1, 2, 3]]\n",
    "y=type(x[0]),type(x[1]),type(x[2]),type(x[3]),type(x[4])\n",
    "print(y)"
   ]
  },
  {
   "cell_type": "code",
   "execution_count": 62,
   "id": "8245e6a1-c026-4979-a558-fcef89e3b140",
   "metadata": {},
   "outputs": [
    {
     "name": "stdout",
     "output_type": "stream",
     "text": [
      "\n",
      "Question 21: Find the length of each string in ['apple', 'banana', 'cherry', 'date']\n"
     ]
    }
   ],
   "source": [
    "# Question 21: Find the length of each string in [\"apple\", \"banana\", \"cherry\", \"date\"]\n",
    "print(\"\\nQuestion 21: Find the length of each string in ['apple', 'banana', 'cherry', 'date']\")\n",
    "\n"
   ]
  },
  {
   "cell_type": "code",
   "execution_count": 64,
   "id": "a1f4d8fe-066b-4356-b2c1-90f2e0295a40",
   "metadata": {},
   "outputs": [
    {
     "data": {
      "text/plain": [
       "(5, 6, 6, 4)"
      ]
     },
     "execution_count": 64,
     "metadata": {},
     "output_type": "execute_result"
    }
   ],
   "source": [
    "x=['apple', 'banana', 'cherry', 'date']\n",
    "len(x[0]),len(x[1]),len(x[2]),len(x[3]),"
   ]
  },
  {
   "cell_type": "code",
   "execution_count": 65,
   "id": "2aa1aec6-ac19-4817-8997-90d6b62bd934",
   "metadata": {},
   "outputs": [
    {
     "name": "stdout",
     "output_type": "stream",
     "text": [
      "\n",
      "Question 22: Create a list of tuples: [(1, 'a'), (2, 'b'), (3, 'c')]\n"
     ]
    }
   ],
   "source": [
    "# Question 22: Create a list of tuples: [(1, 'a'), (2, 'b'), (3, 'c')]\n",
    "print(\"\\nQuestion 22: Create a list of tuples: [(1, 'a'), (2, 'b'), (3, 'c')]\")"
   ]
  },
  {
   "cell_type": "code",
   "execution_count": 66,
   "id": "b88d98c1-05f3-4046-9dcc-17350219d023",
   "metadata": {},
   "outputs": [
    {
     "name": "stdout",
     "output_type": "stream",
     "text": [
      "(<class 'tuple'>, <class 'tuple'>, <class 'tuple'>)\n"
     ]
    }
   ],
   "source": [
    "x=[(1, 'a'), (2, 'b'), (3, 'c')]\n",
    "y=type(x[0]),type(x[1]),type(x[2])\n",
    "print(y)"
   ]
  },
  {
   "cell_type": "code",
   "execution_count": 67,
   "id": "5a5e183b-4ffc-46f5-b8d4-727503126ca3",
   "metadata": {},
   "outputs": [
    {
     "name": "stdout",
     "output_type": "stream",
     "text": [
      "\n",
      "Question 23: Extract first element from each tuple in [(1, 'a'), (2, 'b'), (3, 'c')]\n"
     ]
    }
   ],
   "source": [
    "# Question 23: Extract first element from each tuple in [(1, 'a'), (2, 'b'), (3, 'c')]\n",
    "print(\"\\nQuestion 23: Extract first element from each tuple in [(1, 'a'), (2, 'b'), (3, 'c')]\")"
   ]
  },
  {
   "cell_type": "code",
   "execution_count": 73,
   "id": "6f36fcbf-1d94-4442-a9a4-07ee6c60aa40",
   "metadata": {},
   "outputs": [
    {
     "name": "stdout",
     "output_type": "stream",
     "text": [
      "[1, 2, 3]\n"
     ]
    }
   ],
   "source": [
    "x=[(1, 'a'), (2, 'b'), (3, 'c')]\n",
    "y=[item[0]for item in x]\n",
    "print(y)"
   ]
  },
  {
   "cell_type": "code",
   "execution_count": 74,
   "id": "cc6905cd-3660-42bd-9c74-f02768c1d1be",
   "metadata": {},
   "outputs": [
    {
     "name": "stdout",
     "output_type": "stream",
     "text": [
      "\n",
      "Question 24: Create a list of dictionaries: [{'name': 'Alice', 'age': 25}, {'name': 'Bob', 'age': 30}]\n"
     ]
    }
   ],
   "source": [
    "# Question 24: Create a list of dictionaries: [{'name': 'Alice', 'age': 25}, {'name': 'Bob', 'age': 30}]\n",
    "print(\"\\nQuestion 24: Create a list of dictionaries: [{'name': 'Alice', 'age': 25}, {'name': 'Bob', 'age': 30}]\")"
   ]
  },
  {
   "cell_type": "code",
   "execution_count": 75,
   "id": "966d0bc9-c2f6-4520-9287-bfc2a78924cc",
   "metadata": {},
   "outputs": [],
   "source": [
    "x= [{'name': 'Alice', 'age': 25}, {'name': 'Bob', 'age': 30}]\n"
   ]
  },
  {
   "cell_type": "code",
   "execution_count": 76,
   "id": "a54e87c9-ff97-4c8f-b0a1-f7258b34cd14",
   "metadata": {},
   "outputs": [
    {
     "name": "stdout",
     "output_type": "stream",
     "text": [
      "\n",
      "Question 25: Extract all 'name' values from list of dictionaries\n"
     ]
    }
   ],
   "source": [
    "# Question 25: Extract all 'name' values from list of dictionaries\n",
    "print(\"\\nQuestion 25: Extract all 'name' values from list of dictionaries\")"
   ]
  },
  {
   "cell_type": "code",
   "execution_count": 82,
   "id": "14b1c54f-b3f0-4548-823b-509b9aab2497",
   "metadata": {},
   "outputs": [
    {
     "name": "stdout",
     "output_type": "stream",
     "text": [
      "['Alice', 'Bob']\n"
     ]
    }
   ],
   "source": [
    "x= [{'name': 'Alice', 'age': 25}, {'name': 'Bob', 'age': 30}]\n",
    "y=[d['name']for d in x]\n",
    "print(y)"
   ]
  },
  {
   "cell_type": "code",
   "execution_count": null,
   "id": "01b3cbd2-bd3e-432d-a33c-ae2af25522c2",
   "metadata": {},
   "outputs": [],
   "source": []
  },
  {
   "cell_type": "code",
   "execution_count": 86,
   "id": "6360dfd2-3ca3-44ed-9728-21eb9c1cfa19",
   "metadata": {},
   "outputs": [
    {
     "name": "stdout",
     "output_type": "stream",
     "text": [
      "{1, 2, 3, 4, 5, 6, 7, 8, 9}\n"
     ]
    }
   ],
   "source": [
    "x= [{1, 2, 3}, {4, 5, 6}, {7, 8, 9}]\n",
    "y=set().union(*x)\n",
    "print(y)"
   ]
  },
  {
   "cell_type": "code",
   "execution_count": 8,
   "id": "1a489104-c407-4900-84a5-742fadbc8e30",
   "metadata": {},
   "outputs": [
    {
     "name": "stdout",
     "output_type": "stream",
     "text": [
      "Created list of functions: [<built-in function len>, <class 'str'>, <class 'int'>, <class 'float'>]\n"
     ]
    }
   ],
   "source": [
    "# Question 35: Create a list of functions: [len, str, int, float]\n",
    "print(\"Created list of functions:\", [len, str, int, float])\n",
    "\n"
   ]
  },
  {
   "cell_type": "code",
   "execution_count": null,
   "id": "4b15cb65-40f7-4ca2-8b68-4d7613d5a53a",
   "metadata": {},
   "outputs": [],
   "source": []
  }
 ],
 "metadata": {
  "kernelspec": {
   "display_name": "Python 3",
   "language": "python",
   "name": "python3"
  },
  "language_info": {
   "codemirror_mode": {
    "name": "ipython",
    "version": 3
   },
   "file_extension": ".py",
   "mimetype": "text/x-python",
   "name": "python",
   "nbconvert_exporter": "python",
   "pygments_lexer": "ipython3",
   "version": "3.13.5"
  }
 },
 "nbformat": 4,
 "nbformat_minor": 5
}
