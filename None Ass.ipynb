{
 "cells": [
  {
   "cell_type": "code",
   "execution_count": 1,
   "id": "52527654-4e72-433d-be21-c752214926b6",
   "metadata": {},
   "outputs": [
    {
     "name": "stdout",
     "output_type": "stream",
     "text": [
      "Question 1: Create a variable and assign None to it\n",
      "Answer: my_variable = None\n"
     ]
    }
   ],
   "source": [
    "# Create a variable and assign None to it\n",
    "print(\"Question 1: Create a variable and assign None to it\")\n",
    "print(\"Answer: my_variable = None\")"
   ]
  },
  {
   "cell_type": "code",
   "execution_count": 5,
   "id": "3c7b96c2-21b4-4c52-921b-fa6389065785",
   "metadata": {},
   "outputs": [
    {
     "name": "stdout",
     "output_type": "stream",
     "text": [
      "None\n"
     ]
    },
    {
     "data": {
      "text/plain": [
       "NoneType"
      ]
     },
     "execution_count": 5,
     "metadata": {},
     "output_type": "execute_result"
    }
   ],
   "source": [
    "x= None\n",
    "print(x)\n",
    "type(x)"
   ]
  },
  {
   "cell_type": "code",
   "execution_count": 2,
   "id": "b932ba34-541e-4cc6-ace1-e55f4ea7d40d",
   "metadata": {},
   "outputs": [
    {
     "name": "stdout",
     "output_type": "stream",
     "text": [
      "\n",
      "Check if None equals None\n",
      "Answer: None == None\n"
     ]
    }
   ],
   "source": [
    "# Check if None equals None\n",
    "print(\"\\nCheck if None equals None\")\n",
    "print(\"Answer: None == None\")"
   ]
  },
  {
   "cell_type": "code",
   "execution_count": 7,
   "id": "c861463e-04c1-4b02-bf0d-44b33ecc58bb",
   "metadata": {},
   "outputs": [
    {
     "name": "stdout",
     "output_type": "stream",
     "text": [
      "Yes\n"
     ]
    }
   ],
   "source": [
    "if None==None:\n",
    "    print(\"Yes\")\n",
    "else:\n",
    "    print(\"No\")\n",
    "    "
   ]
  },
  {
   "cell_type": "code",
   "execution_count": 8,
   "id": "c0cf1ad5-3d97-4d20-b10a-a328669fdbb1",
   "metadata": {},
   "outputs": [
    {
     "name": "stdout",
     "output_type": "stream",
     "text": [
      "\n",
      "Question 4: Check if 0 is None\n"
     ]
    }
   ],
   "source": [
    "# Question 4: Check if 0 is None\n",
    "print(\"\\nQuestion 4: Check if 0 is None\")"
   ]
  },
  {
   "cell_type": "code",
   "execution_count": 9,
   "id": "117f75f5-cc4c-4c22-a182-07db60f200e4",
   "metadata": {},
   "outputs": [
    {
     "name": "stdout",
     "output_type": "stream",
     "text": [
      "No\n"
     ]
    }
   ],
   "source": [
    "x=0\n",
    "if x is None:\n",
    "    print(\"True\")\n",
    "else:\n",
    "    print(\"No\")"
   ]
  },
  {
   "cell_type": "code",
   "execution_count": 10,
   "id": "80f9f70d-c615-42f5-94d6-eed5f0891da4",
   "metadata": {},
   "outputs": [
    {
     "name": "stdout",
     "output_type": "stream",
     "text": [
      "\n",
      "Question 5: Check if empty string is None\n"
     ]
    }
   ],
   "source": [
    "# Question 5: Check if empty string is None\n",
    "print(\"\\nQuestion 5: Check if empty string is None\")"
   ]
  },
  {
   "cell_type": "code",
   "execution_count": 11,
   "id": "feef7d32-cd6f-4d73-82d8-45c9c681023c",
   "metadata": {},
   "outputs": [
    {
     "name": "stdout",
     "output_type": "stream",
     "text": [
      "No\n"
     ]
    }
   ],
   "source": [
    "x=\"\"\n",
    "if x is None:\n",
    "    print(\"Yes\")\n",
    "else:\n",
    "    print(\"No\")"
   ]
  },
  {
   "cell_type": "code",
   "execution_count": 12,
   "id": "8ca807a2-c673-4c33-9051-fa25ac22e2a7",
   "metadata": {},
   "outputs": [
    {
     "name": "stdout",
     "output_type": "stream",
     "text": [
      "\n",
      "Question 6: Check if False is None\n"
     ]
    }
   ],
   "source": [
    "\n",
    "# Question 6: Check if False is None\n",
    "print(\"\\nQuestion 6: Check if False is None\")"
   ]
  },
  {
   "cell_type": "code",
   "execution_count": 13,
   "id": "38db2c69-2c98-47b6-a809-cce41d41ec68",
   "metadata": {},
   "outputs": [
    {
     "name": "stdout",
     "output_type": "stream",
     "text": [
      "No\n"
     ]
    }
   ],
   "source": [
    "x=False\n",
    "if x is None:\n",
    "    print(\"Yes\")\n",
    "else:\n",
    "    print(\"No\")"
   ]
  },
  {
   "cell_type": "code",
   "execution_count": 14,
   "id": "f71cda2e-8ba0-4431-972a-571acc94d9cd",
   "metadata": {},
   "outputs": [
    {
     "name": "stdout",
     "output_type": "stream",
     "text": [
      "\n",
      "Question 7: Check if empty list is None\n"
     ]
    }
   ],
   "source": [
    "# Question 7: Check if empty list is None\n",
    "print(\"\\nQuestion 7: Check if empty list is None\")"
   ]
  },
  {
   "cell_type": "code",
   "execution_count": 15,
   "id": "a2c130dd-92da-43b1-a7a4-429f870723e6",
   "metadata": {},
   "outputs": [
    {
     "name": "stdout",
     "output_type": "stream",
     "text": [
      "No\n"
     ]
    }
   ],
   "source": [
    "x=[]\n",
    "if x is None:\n",
    "    print(\"Yes\")\n",
    "else:\n",
    "    print(\"No\")"
   ]
  },
  {
   "cell_type": "code",
   "execution_count": 16,
   "id": "bd060b31-481f-4322-8a19-33df0c7216b1",
   "metadata": {},
   "outputs": [
    {
     "name": "stdout",
     "output_type": "stream",
     "text": [
      "\n",
      "Question 8: Check if empty dictionary is None\n"
     ]
    }
   ],
   "source": [
    "\n",
    "# Question 8: Check if empty dictionary is None\n",
    "print(\"\\nQuestion 8: Check if empty dictionary is None\")"
   ]
  },
  {
   "cell_type": "code",
   "execution_count": 18,
   "id": "43d1256f-45dc-4aeb-af12-feda77598522",
   "metadata": {},
   "outputs": [
    {
     "name": "stdout",
     "output_type": "stream",
     "text": [
      "No\n"
     ]
    }
   ],
   "source": [
    "x={}\n",
    "if x is None:\n",
    "    print(\"Yes\")\n",
    "else:\n",
    "    print(\"No\")"
   ]
  },
  {
   "cell_type": "code",
   "execution_count": 19,
   "id": "cfca803d-90db-4709-a814-d5fef1b6ac6c",
   "metadata": {},
   "outputs": [
    {
     "name": "stdout",
     "output_type": "stream",
     "text": [
      "\n",
      "Question 9: Check if empty tuple is None\n"
     ]
    }
   ],
   "source": [
    "# Question 9: Check if empty tuple is None\n",
    "print(\"\\nQuestion 9: Check if empty tuple is None\")"
   ]
  },
  {
   "cell_type": "code",
   "execution_count": 21,
   "id": "2e102a48-3a31-446f-b598-f634150b6df4",
   "metadata": {},
   "outputs": [
    {
     "name": "stdout",
     "output_type": "stream",
     "text": [
      "No\n"
     ]
    }
   ],
   "source": [
    "x=()\n",
    "if x is None:\n",
    "    print(\"Yes\")\n",
    "else:\n",
    "    print(\"No\")"
   ]
  },
  {
   "cell_type": "code",
   "execution_count": 22,
   "id": "9266a6bf-cff3-4c6c-9f89-df2922288912",
   "metadata": {},
   "outputs": [
    {
     "name": "stdout",
     "output_type": "stream",
     "text": [
      "\n",
      "Question 10: Check if empty set is None\n"
     ]
    }
   ],
   "source": [
    "# Question 10: Check if empty set is None\n",
    "print(\"\\nQuestion 10: Check if empty set is None\")"
   ]
  },
  {
   "cell_type": "code",
   "execution_count": 23,
   "id": "667dac00-b9e8-4cba-941a-af8813d88bdb",
   "metadata": {},
   "outputs": [
    {
     "name": "stdout",
     "output_type": "stream",
     "text": [
      "No\n"
     ]
    }
   ],
   "source": [
    "x=set()\n",
    "if x is None:\n",
    "    print(\"Yes\")\n",
    "else:\n",
    "    print(\"No\")"
   ]
  },
  {
   "cell_type": "code",
   "execution_count": null,
   "id": "e61acf29-fa17-47e8-97f7-54b9b8f1cdf1",
   "metadata": {},
   "outputs": [],
   "source": []
  }
 ],
 "metadata": {
  "kernelspec": {
   "display_name": "Python 3",
   "language": "python",
   "name": "python3"
  },
  "language_info": {
   "codemirror_mode": {
    "name": "ipython",
    "version": 3
   },
   "file_extension": ".py",
   "mimetype": "text/x-python",
   "name": "python",
   "nbconvert_exporter": "python",
   "pygments_lexer": "ipython3",
   "version": "3.13.5"
  }
 },
 "nbformat": 4,
 "nbformat_minor": 5
}
