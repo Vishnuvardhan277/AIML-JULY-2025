{
 "cells": [
  {
   "cell_type": "code",
   "execution_count": 1,
   "id": "19bc46bb-6df6-43b8-99ba-59b641c5acf1",
   "metadata": {},
   "outputs": [
    {
     "name": "stdout",
     "output_type": "stream",
     "text": [
      "[1, 2, 3, 4]\n"
     ]
    }
   ],
   "source": [
    "num=[1,2,3]\n",
    "num.append(4)\n",
    "print(num)"
   ]
  },
  {
   "cell_type": "code",
   "execution_count": 3,
   "id": "5cc13bcf-f8da-4bc4-b06f-ed94e14a400b",
   "metadata": {},
   "outputs": [
    {
     "name": "stdout",
     "output_type": "stream",
     "text": [
      "[1, 2, 3, 'vishnu']\n"
     ]
    }
   ],
   "source": [
    "num=[1,2,3]\n",
    "num.append('vishnu')\n",
    "print(num)"
   ]
  },
  {
   "cell_type": "code",
   "execution_count": 4,
   "id": "efd967b7-ff07-472d-a648-dcd4ca7efb56",
   "metadata": {},
   "outputs": [
    {
     "name": "stdout",
     "output_type": "stream",
     "text": [
      "['food', 'was tasty']\n"
     ]
    }
   ],
   "source": [
    "t=[]\n",
    "t.append('food')\n",
    "t.append('was tasty')\n",
    "print(t)"
   ]
  },
  {
   "cell_type": "code",
   "execution_count": null,
   "id": "1c55c19b-6626-4d70-9195-b996bb785461",
   "metadata": {},
   "outputs": [
    {
     "name": "stdout",
     "output_type": "stream",
     "text": [
      "[1, 2, 3, 4, 5, 6, 7, 8]\n"
     ]
    }
   ],
   "source": [
    "m=[1,2,3,4]\n",
    "n=[5,6,7,8]\n",
    "m.extend(n)\n",
    "print(m)"
   ]
  },
  {
   "cell_type": "code",
   "execution_count": 4,
   "id": "083d63e7-260d-4529-a634-8e58301e0324",
   "metadata": {},
   "outputs": [
    {
     "name": "stdout",
     "output_type": "stream",
     "text": [
      "[1, 2, 3, 4, 'baby']\n"
     ]
    }
   ],
   "source": [
    "m=[1,2,3,4]\n",
    "n=['baby']\n",
    "m.extend(n)\n",
    "print(m)\n"
   ]
  },
  {
   "cell_type": "code",
   "execution_count": 7,
   "id": "e75d3aae-aea6-4e23-a699-c1b3d4dd3608",
   "metadata": {},
   "outputs": [
    {
     "name": "stdout",
     "output_type": "stream",
     "text": [
      "[1, 2, 3, 4, 5, 6, 'h', 'e', 'l', 'l', 'o']\n"
     ]
    }
   ],
   "source": [
    "a=[1,2,3,4,5,6]\n",
    "b=('hello')\n",
    "a.extend(b)\n",
    "print(a)"
   ]
  },
  {
   "cell_type": "code",
   "execution_count": 29,
   "id": "80611e9c-75b3-4c77-8ed5-0c33aa08c6f9",
   "metadata": {},
   "outputs": [
    {
     "name": "stdout",
     "output_type": "stream",
     "text": [
      "[10, 20, 30, 40]\n"
     ]
    }
   ],
   "source": [
    "numbers=[10,20,40]\n",
    "numbers.insert(2,30)\n",
    "print(numbers)"
   ]
  },
  {
   "cell_type": "code",
   "execution_count": 34,
   "id": "5c777869-6fee-4b73-9a94-d42e0c751021",
   "metadata": {},
   "outputs": [
    {
     "name": "stdout",
     "output_type": "stream",
     "text": [
      "['cat', 'buffalo', 'horse']\n"
     ]
    }
   ],
   "source": [
    "animals= ['cat', 'buffalo']\n",
    "animals.insert(2,'horse')\n",
    "print(animals)"
   ]
  },
  {
   "cell_type": "code",
   "execution_count": 44,
   "id": "5674c148-bc8a-4ed4-96c2-d36a273a1e1e",
   "metadata": {},
   "outputs": [
    {
     "name": "stdout",
     "output_type": "stream",
     "text": [
      "[1, 2, 4, 5, 6, 3]\n"
     ]
    }
   ],
   "source": [
    "numbers=[1,2,3,4,5,6,3]\n",
    "numbers.remove(3)\n",
    "print(numbers)"
   ]
  },
  {
   "cell_type": "code",
   "execution_count": 48,
   "id": "bb50bf41-7384-4649-8ed7-25e5e21df2e7",
   "metadata": {},
   "outputs": [
    {
     "name": "stdout",
     "output_type": "stream",
     "text": [
      "['1', '2', '3', '9']\n"
     ]
    }
   ],
   "source": [
    "numbers=['1','9','2','3']\n",
    "numbers.sort()\n",
    "print(numbers)"
   ]
  },
  {
   "cell_type": "code",
   "execution_count": 49,
   "id": "cc31233f-b7fd-417a-bbf5-4b0e5e8b0bd1",
   "metadata": {},
   "outputs": [
    {
     "name": "stdout",
     "output_type": "stream",
     "text": [
      "['a', 'd', 'h', 'x']\n"
     ]
    }
   ],
   "source": [
    "letters=['x','a','d','h']\n",
    "letters.sort()\n",
    "print(letters)"
   ]
  },
  {
   "cell_type": "code",
   "execution_count": 2,
   "id": "43f0ac56-4f15-416f-abd7-cedd850d2bd7",
   "metadata": {},
   "outputs": [
    {
     "name": "stdout",
     "output_type": "stream",
     "text": [
      "[10, 20, 30, 40]\n"
     ]
    }
   ],
   "source": [
    "stack=[10,20,30,40,50]\n",
    "stack.pop()\n",
    "print(stack)"
   ]
  },
  {
   "cell_type": "code",
   "execution_count": 3,
   "id": "6fcfcff9-6391-4740-ae58-ebdebef2f55d",
   "metadata": {},
   "outputs": [
    {
     "name": "stdout",
     "output_type": "stream",
     "text": [
      "[0, 1, 2, 3, 4, 5]\n"
     ]
    }
   ],
   "source": [
    "n=[5,4,3,2,1,0]\n",
    "n.reverse()\n",
    "print(n)"
   ]
  },
  {
   "cell_type": "code",
   "execution_count": 29,
   "id": "97d942d5-8efb-48d5-b31d-2a53eccdd62c",
   "metadata": {},
   "outputs": [
    {
     "name": "stdout",
     "output_type": "stream",
     "text": [
      "0\n"
     ]
    }
   ],
   "source": [
    "num=[1,2,3,4,5]\n",
    "print(num.index(1))"
   ]
  },
  {
   "cell_type": "code",
   "execution_count": 7,
   "id": "ac299c1f-b514-439d-95f7-87ea4b1781fd",
   "metadata": {},
   "outputs": [
    {
     "name": "stdout",
     "output_type": "stream",
     "text": [
      "1\n"
     ]
    }
   ],
   "source": [
    "num=[1,2,3,4,5]\n",
    "print(num.index(3))"
   ]
  },
  {
   "cell_type": "code",
   "execution_count": 12,
   "id": "e4b1c322-b31c-499c-b48c-1021688ffb04",
   "metadata": {},
   "outputs": [
    {
     "name": "stdout",
     "output_type": "stream",
     "text": [
      "[]\n"
     ]
    }
   ],
   "source": [
    "num=[1,2,3,3,3,3,4,5]\n",
    "num.clear()\n",
    "print(num)"
   ]
  },
  {
   "cell_type": "code",
   "execution_count": null,
   "id": "d3ea4cea-ee47-4f3f-993d-217066798fba",
   "metadata": {},
   "outputs": [],
   "source": [
    "scores = [90, 85, 95, 85]\n",
    "scores.remove(85)\n",
    "print(scores) "
   ]
  },
  {
   "cell_type": "code",
   "execution_count": null,
   "id": "07922834-812e-4c0c-b5c4-3395babae26c",
   "metadata": {},
   "outputs": [],
   "source": []
  },
  {
   "cell_type": "code",
   "execution_count": 28,
   "id": "c1af7f60-6e60-4a49-9f25-eaef748c3bae",
   "metadata": {},
   "outputs": [
    {
     "name": "stdout",
     "output_type": "stream",
     "text": [
      "[10, 20, 40, 50, 30]\n"
     ]
    }
   ],
   "source": [
    "score=[10,20,30,40,50,30]\n",
    "score.remove(30)\n",
    "print(score)"
   ]
  },
  {
   "cell_type": "code",
   "execution_count": null,
   "id": "e732fa7d-c76a-4be4-b192-43b3d16b639f",
   "metadata": {},
   "outputs": [],
   "source": []
  }
 ],
 "metadata": {
  "kernelspec": {
   "display_name": "Python 3 (ipykernel)",
   "language": "python",
   "name": "python3"
  },
  "language_info": {
   "codemirror_mode": {
    "name": "ipython",
    "version": 3
   },
   "file_extension": ".py",
   "mimetype": "text/x-python",
   "name": "python",
   "nbconvert_exporter": "python",
   "pygments_lexer": "ipython3",
   "version": "3.13.5"
  }
 },
 "nbformat": 4,
 "nbformat_minor": 5
}
