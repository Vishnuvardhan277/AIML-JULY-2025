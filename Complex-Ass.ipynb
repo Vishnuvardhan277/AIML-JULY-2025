{
 "cells": [
  {
   "cell_type": "code",
   "execution_count": 5,
   "id": "fd4d29a9-517f-4a2c-abe8-a4124cd4a4f9",
   "metadata": {},
   "outputs": [
    {
     "name": "stdout",
     "output_type": "stream",
     "text": [
      "Answer:  (5+3j)\n"
     ]
    }
   ],
   "source": [
    "# Question 1: Create complex number 5 + 3j\n",
    "print(\"Answer: \", 5 + 3j)\n"
   ]
  },
  {
   "cell_type": "code",
   "execution_count": 2,
   "id": "de52dacb-c094-4ea7-b99b-ef4ef5ca06fb",
   "metadata": {},
   "outputs": [
    {
     "data": {
      "text/plain": [
       "complex"
      ]
     },
     "execution_count": 2,
     "metadata": {},
     "output_type": "execute_result"
    }
   ],
   "source": [
    "x=5+3j\n",
    "type(x)"
   ]
  },
  {
   "cell_type": "code",
   "execution_count": 3,
   "id": "c395856f-b8f8-48a0-b418-1c7f76f12bd1",
   "metadata": {},
   "outputs": [
    {
     "name": "stdout",
     "output_type": "stream",
     "text": [
      "Answer:  7.0\n"
     ]
    }
   ],
   "source": [
    "# Question 2: Find the real part of complex number 7 - 2j\n",
    "print(\"Answer: \", (7 - 2j).real)"
   ]
  },
  {
   "cell_type": "code",
   "execution_count": 6,
   "id": "299d0aeb-a576-4d8c-895f-1288c821103d",
   "metadata": {},
   "outputs": [
    {
     "name": "stdout",
     "output_type": "stream",
     "text": [
      "Answer:  6.0\n"
     ]
    }
   ],
   "source": [
    "# Question 3: Find the imaginary part of complex number 4 + 6j\n",
    "print(\"Answer: \", (4 + 6j).imag)\n"
   ]
  },
  {
   "cell_type": "code",
   "execution_count": 7,
   "id": "5363908f-75cf-4718-b229-aa10c606bbd5",
   "metadata": {},
   "outputs": [
    {
     "name": "stdout",
     "output_type": "stream",
     "text": [
      "Answer:  (4+6j)\n"
     ]
    }
   ],
   "source": [
    "# Question 4: Add two complex numbers: (3 + 2j) and (1 + 4j)\n",
    "print(\"Answer: \", (3 + 2j) + (1 + 4j))"
   ]
  },
  {
   "cell_type": "code",
   "execution_count": 8,
   "id": "e859e3f0-cd28-44a5-bb16-2f460a2f2c55",
   "metadata": {},
   "outputs": [
    {
     "name": "stdout",
     "output_type": "stream",
     "text": [
      "Answer:  (-4+7j)\n"
     ]
    }
   ],
   "source": [
    "# Question 5: Multiply two complex numbers: (2 + 3j) and (1 + 2j)\n",
    "print(\"Answer: \", (2 + 3j) * (1 + 2j))"
   ]
  },
  {
   "cell_type": "code",
   "execution_count": 9,
   "id": "819dca78-8554-4c8a-ad71-980b3848b891",
   "metadata": {},
   "outputs": [
    {
     "name": "stdout",
     "output_type": "stream",
     "text": [
      "Answer:  10.0\n"
     ]
    }
   ],
   "source": [
    "# Question 6: Find the magnitude of complex number 6 + 8j\n",
    "print(\"Answer: \", abs(6 + 8j))"
   ]
  },
  {
   "cell_type": "code",
   "execution_count": 10,
   "id": "4c8c46cf-2fec-457c-9a5f-051d818367d5",
   "metadata": {},
   "outputs": [
    {
     "name": "stdout",
     "output_type": "stream",
     "text": [
      "Answer:  (5+7j)\n"
     ]
    }
   ],
   "source": [
    "# Question 7: Find the conjugate of complex number 5 - 7j\n",
    "print(\"Answer: \", (5 - 7j).conjugate())"
   ]
  },
  {
   "cell_type": "code",
   "execution_count": 11,
   "id": "582bb2c8-db3a-46e5-9daa-9a7aeae6c320",
   "metadata": {},
   "outputs": [
    {
     "name": "stdout",
     "output_type": "stream",
     "text": [
      "Answer:  (7+3j)\n"
     ]
    }
   ],
   "source": [
    "# Question 8: Subtract complex numbers: (10 + 5j) - (3 + 2j)\n",
    "print(\"Answer: \", (10 + 5j) - (3 + 2j))"
   ]
  },
  {
   "cell_type": "code",
   "execution_count": 12,
   "id": "279034f1-9fb1-491e-b4f1-0972bdc37ede",
   "metadata": {},
   "outputs": [
    {
     "name": "stdout",
     "output_type": "stream",
     "text": [
      "Answer:  (4.4+0.8j)\n"
     ]
    }
   ],
   "source": [
    "# Question 9: Divide complex numbers: (8 + 6j) / (2 + 1j)\n",
    "print(\"Answer: \", (8 + 6j) / (2 + 1j))"
   ]
  },
  {
   "cell_type": "code",
   "execution_count": 14,
   "id": "309b1300-60e9-4328-9d26-473d015dc130",
   "metadata": {},
   "outputs": [
    {
     "name": "stdout",
     "output_type": "stream",
     "text": [
      "Answer:  0.7853981633974483\n"
     ]
    }
   ],
   "source": [
    "# Question 10: Find the phase angle of complex number 1 + 1j\n",
    "import cmath\n",
    "print(\"Answer: \", cmath.phase(1 + 1j))"
   ]
  }
 ],
 "metadata": {
  "kernelspec": {
   "display_name": "Python 3 (ipykernel)",
   "language": "python",
   "name": "python3"
  },
  "language_info": {
   "codemirror_mode": {
    "name": "ipython",
    "version": 3
   },
   "file_extension": ".py",
   "mimetype": "text/x-python",
   "name": "python",
   "nbconvert_exporter": "python",
   "pygments_lexer": "ipython3",
   "version": "3.13.5"
  }
 },
 "nbformat": 4,
 "nbformat_minor": 5
}
