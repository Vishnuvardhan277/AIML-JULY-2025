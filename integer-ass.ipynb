{
 "cells": [
  {
   "cell_type": "code",
   "execution_count": 14,
   "id": "17467d21",
   "metadata": {},
   "outputs": [
    {
     "name": "stdout",
     "output_type": "stream",
     "text": [
      "product of 10 naural numbers: 1\n",
      "product of 10 naural numbers: 2\n",
      "product of 10 naural numbers: 6\n",
      "product of 10 naural numbers: 24\n",
      "product of 10 naural numbers: 120\n",
      "product of 10 naural numbers: 720\n",
      "product of 10 naural numbers: 5040\n",
      "product of 10 naural numbers: 40320\n",
      "product of 10 naural numbers: 362880\n",
      "product of 10 naural numbers: 3628800\n"
     ]
    }
   ],
   "source": [
    "# Question 1: Calculate the product of first 10 natural numbers\n",
    "a = 1\n",
    "for i in range(1,11): # from 1 to 10\n",
    "    a *= i\n",
    "    print(\"product of 10 naural numbers:\", a)"
   ]
  },
  {
   "cell_type": "code",
   "execution_count": 10,
   "id": "0757ddc8",
   "metadata": {},
   "outputs": [
    {
     "name": "stdout",
     "output_type": "stream",
     "text": [
      "2\n"
     ]
    }
   ],
   "source": [
    "# Question 2: Find the remainder when 156 is divided by 7\n",
    "print(156%7)"
   ]
  },
  {
   "cell_type": "code",
   "execution_count": null,
   "id": "efb405ea",
   "metadata": {},
   "outputs": [
    {
     "name": "stdout",
     "output_type": "stream",
     "text": [
      "625\n"
     ]
    }
   ],
   "source": [
    "# Question 3: Calculate the square of 25\n",
    "print(25**2)"
   ]
  },
  {
   "cell_type": "code",
   "execution_count": 17,
   "id": "5a495727",
   "metadata": {},
   "outputs": [
    {
     "name": "stdout",
     "output_type": "stream",
     "text": [
      "5.0\n"
     ]
    }
   ],
   "source": [
    "print(125**(1/3))"
   ]
  },
  {
   "cell_type": "code",
   "execution_count": 12,
   "id": "5179b5c1",
   "metadata": {},
   "outputs": [
    {
     "name": "stdout",
     "output_type": "stream",
     "text": [
      "1953125\n"
     ]
    }
   ],
   "source": [
    "# Question 4: Find the cube root of 125\n",
    "print(125**3)"
   ]
  },
  {
   "cell_type": "code",
   "execution_count": 13,
   "id": "c258f227",
   "metadata": {},
   "outputs": [
    {
     "name": "stdout",
     "output_type": "stream",
     "text": [
      "15\n"
     ]
    }
   ],
   "source": [
    "# Question 5: Calculate the sum of digits in number 12345\n",
    "print(1+2+3+4+5)"
   ]
  },
  {
   "cell_type": "code",
   "execution_count": 15,
   "id": "9a615be0",
   "metadata": {},
   "outputs": [
    {
     "name": "stdout",
     "output_type": "stream",
     "text": [
      "factorial of 8 is: 1\n",
      "factorial of 8 is: 2\n",
      "factorial of 8 is: 6\n",
      "factorial of 8 is: 24\n",
      "factorial of 8 is: 120\n",
      "factorial of 8 is: 720\n",
      "factorial of 8 is: 5040\n",
      "factorial of 8 is: 40320\n"
     ]
    }
   ],
   "source": [
    "# Question 7: Find the factorial of 8\n",
    "fact = 1\n",
    "for i in range(1,9): # from 1 to 10\n",
    "    fact *= i\n",
    "    print(\"factorial of 8 is:\", fact)"
   ]
  },
  {
   "cell_type": "code",
   "execution_count": 21,
   "id": "6e381491",
   "metadata": {},
   "outputs": [
    {
     "name": "stdout",
     "output_type": "stream",
     "text": [
      "33.4\n"
     ]
    }
   ],
   "source": [
    "# Question 8: Calculate the average of numbers: 15, 23, 31, 42, 56\n",
    "num=[15,23,31,42,56]\n",
    "avg = sum(num)/5\n",
    "print(avg)"
   ]
  },
  {
   "cell_type": "code",
   "execution_count": 23,
   "id": "cd91d5dc",
   "metadata": {},
   "outputs": [
    {
     "data": {
      "text/plain": [
       "12"
      ]
     },
     "execution_count": 23,
     "metadata": {},
     "output_type": "execute_result"
    }
   ],
   "source": [
    "# Question 9: Find the greatest common divisor (GCD) of 48 and 36\n",
    "import math\n",
    "math.gcd(48, 36)"
   ]
  },
  {
   "cell_type": "code",
   "execution_count": 27,
   "id": "af8d4526",
   "metadata": {},
   "outputs": [
    {
     "name": "stdout",
     "output_type": "stream",
     "text": [
      "400\n"
     ]
    }
   ],
   "source": [
    "# Question 10: Calculate the sum of first 20 odd numbers\n",
    "total = 0\n",
    "for i in range(1, 40, 2):\n",
    "    # Sum of odd numbers from 1 to 39\n",
    "    total += i\n",
    "print(total)"
   ]
  }
 ],
 "metadata": {
  "kernelspec": {
   "display_name": "Python 3",
   "language": "python",
   "name": "python3"
  },
  "language_info": {
   "codemirror_mode": {
    "name": "ipython",
    "version": 3
   },
   "file_extension": ".py",
   "mimetype": "text/x-python",
   "name": "python",
   "nbconvert_exporter": "python",
   "pygments_lexer": "ipython3",
   "version": "3.13.5"
  }
 },
 "nbformat": 4,
 "nbformat_minor": 5
}
