{
 "cells": [
  {
   "cell_type": "code",
   "execution_count": 8,
   "id": "43735694",
   "metadata": {},
   "outputs": [
    {
     "name": "stdout",
     "output_type": "stream",
     "text": [
      "Average:2.01325\n"
     ]
    }
   ],
   "source": [
    "# Question 1: Calculate the average of 3.14, 2.718, 1.618, 0.577\n",
    "num=[3.14, 2.718, 1.618, 0.577]\n",
    "average = sum(num)/4\n",
    "print(f\"Average:{average}\")\n"
   ]
  },
  {
   "cell_type": "code",
   "execution_count": 10,
   "id": "f116c47f",
   "metadata": {},
   "outputs": [
    {
     "name": "stdout",
     "output_type": "stream",
     "text": [
      "c:37.0\n"
     ]
    }
   ],
   "source": [
    "# Question 2: Convert 98.6 Fahrenheit to Celsius (F = C * 9/5 + 32)\n",
    "f= 98.6\n",
    "c=(f-32) * 5/9\n",
    "#print(f\"f:{f}\")\n",
    "print(f\"c:{c}\")"
   ]
  },
  {
   "cell_type": "code",
   "execution_count": 2,
   "id": "8775909e",
   "metadata": {},
   "outputs": [
    {
     "name": "stdout",
     "output_type": "stream",
     "text": [
      "amount:1174.2413749999998\n",
      "rate:5.5\n"
     ]
    }
   ],
   "source": [
    "# Question 3: Calculate the compound interest on $1000 at 5.5% for 3 years\n",
    "p =1000\n",
    "r =5.5\n",
    "t = 3\n",
    "amount=p * (1 + r/100) **t \n",
    "print(f\"amount:{amount}\")\n",
    "print(f\"rate:{r}\")\n"
   ]
  },
  {
   "cell_type": "code",
   "execution_count": 8,
   "id": "4e788f80",
   "metadata": {},
   "outputs": [
    {
     "name": "stdout",
     "output_type": "stream",
     "text": [
      "sides:3.5 and 4.2\n",
      "hypotenuse:5.467175\n"
     ]
    }
   ],
   "source": [
    "# Question 4: Find the hypotenuse of a right triangle with sides 3.5 and 4.2\n",
    "import math\n",
    "a = 3.5\n",
    "b = 4.2\n",
    "c = math.sqrt(a**2 + b**2)\n",
    "print(f\"sides:{a} and {b}\")\n",
    "print(f\"hypotenuse:{c:2f}\")\n",
    "\n",
    "\n"
   ]
  },
  {
   "cell_type": "code",
   "execution_count": 11,
   "id": "77dab185",
   "metadata": {},
   "outputs": [
    {
     "name": "stdout",
     "output_type": "stream",
     "text": [
      "radius:7.5\n",
      "area:176.71\n"
     ]
    }
   ],
   "source": [
    "\n",
    "# Question 5: Calculate the area of a circle with radius 7.5\n",
    "import math\n",
    "radius = 7.5\n",
    "area = math.pi * radius ** 2\n",
    "print(f\"radius:{radius}\")\n",
    "print(f\"area:{area:.2f}\")"
   ]
  },
  {
   "cell_type": "code",
   "execution_count": 16,
   "id": "fe9101db",
   "metadata": {},
   "outputs": [
    {
     "name": "stdout",
     "output_type": "stream",
     "text": [
      "Percentage: 67.16%\n"
     ]
    }
   ],
   "source": [
    "# Calculate the percentage: 45 out of 67\n",
    "a = 45\n",
    "b = 67\n",
    "percentage = (a / b) * 100\n",
    "print(f\"Percentage: {percentage:.2f}%\") "
   ]
  },
  {
   "cell_type": "code",
   "execution_count": null,
   "id": "9548836c",
   "metadata": {},
   "outputs": [
    {
     "name": "stdout",
     "output_type": "stream",
     "text": [
      "Square root of 23.456 is 4.84\n"
     ]
    }
   ],
   "source": [
    "# Question 8: Find the square root of 23.456\n",
    "import math\n",
    "number = 23.456\n",
    "square_root = math.sqrt(number)\n",
    "print(f\"Square root {number} is {square_root:.2f}\")"
   ]
  },
  {
   "cell_type": "code",
   "execution_count": 20,
   "id": "21bd9dba",
   "metadata": {},
   "outputs": [
    {
     "name": "stdout",
     "output_type": "stream",
     "text": [
      "Simple Interest: 406.25\n"
     ]
    }
   ],
   "source": [
    "# Question 9: Calculate the simple interest: Principal=2500, Rate=6.5%, Time=2.5 years\n",
    "import math\n",
    "principal = 2500\n",
    "rate = 6.5\n",
    "time = 2.5\n",
    "simple_interest = (principal * rate * time) / 100\n",
    "print(f\"Simple Interest: {simple_interest:.2f}\")    "
   ]
  },
  {
   "cell_type": "code",
   "execution_count": 21,
   "id": "7c7cd6d8",
   "metadata": {},
   "outputs": [
    {
     "name": "stdout",
     "output_type": "stream",
     "text": [
      "Degrees: 45.7\n",
      "Radians: 0.80\n"
     ]
    }
   ],
   "source": [
    "# Question 10: Convert 45.7 degrees to radians\n",
    "import math\n",
    "degrees = 45.7\n",
    "radians = math.radians(degrees)\n",
    "print(f\"Degrees: {degrees}\")\n",
    "print(f\"Radians: {radians:.2f}\")    "
   ]
  }
 ],
 "metadata": {
  "kernelspec": {
   "display_name": "Python 3",
   "language": "python",
   "name": "python3"
  },
  "language_info": {
   "codemirror_mode": {
    "name": "ipython",
    "version": 3
   },
   "file_extension": ".py",
   "mimetype": "text/x-python",
   "name": "python",
   "nbconvert_exporter": "python",
   "pygments_lexer": "ipython3",
   "version": "3.13.5"
  }
 },
 "nbformat": 4,
 "nbformat_minor": 5
}
