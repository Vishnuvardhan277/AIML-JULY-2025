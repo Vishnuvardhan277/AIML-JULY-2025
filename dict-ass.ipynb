{
 "cells": [
  {
   "cell_type": "code",
   "execution_count": null,
   "id": "476fc369",
   "metadata": {},
   "outputs": [],
   "source": [
    "# Create a dictionary of student names and their ages\n",
    "student_ages = { \"Alice\": 20,\"Bob\": 22,\"Charlie\": 19 }"
   ]
  },
  {
   "cell_type": "code",
   "execution_count": null,
   "id": "77dd8a9d",
   "metadata": {},
   "outputs": [],
   "source": [
    "# Add a new key-value pair to dictionary {'a': 1, 'b': 2, 'c': 3}\n",
    "student_dict = {'a': 1, 'b': 2, 'c': 3}\n",
    "student_dict['d'] = 4"
   ]
  },
  {
   "cell_type": "code",
   "execution_count": null,
   "id": "28ebd12c",
   "metadata": {},
   "outputs": [
    {
     "name": "stdout",
     "output_type": "stream",
     "text": [
      "dict_keys(['name', 'age', 'city'])\n"
     ]
    }
   ],
   "source": [
    "# Get all keys from dictionary {'name': 'John', 'age': 25, 'city': 'New York'}\n",
    "student_info = {'name': 'John', 'age': 25, 'city': 'New York'}\n",
    "keys = student_info.keys()\n",
    "print(keys)"
   ]
  },
  {
   "cell_type": "code",
   "execution_count": null,
   "id": "bd8f6fb7",
   "metadata": {},
   "outputs": [
    {
     "name": "stdout",
     "output_type": "stream",
     "text": [
      "dict_values([3, 2, 1])\n"
     ]
    }
   ],
   "source": [
    "# Get all values from dictionary {'python': 3, 'java': 2, 'c++': 1}\n",
    "student_languages = {'python': 3, 'java': 2, 'c++': 1}\n",
    "values = student_languages.values()\n",
    "print(values)"
   ]
  },
  {
   "cell_type": "code",
   "execution_count": null,
   "id": "6e775f0a",
   "metadata": {},
   "outputs": [
    {
     "name": "stdout",
     "output_type": "stream",
     "text": [
      "{'a': 1, 'b': 2, 'c': 4}\n"
     ]
    }
   ],
   "source": [
    "#  Remove key 'temp' from {'a': 1, 'b': 2, 'temp': 3, 'c': 4}\n",
    "student_dict = {'a': 1, 'b': 2, 'temp': 3, 'c': 4}\n",
    "if 'temp' in student_dict:\n",
    "    del student_dict['temp']\n",
    "    print(student_dict)  # Output: {'a': 1, 'b': 2, 'c': 4}"
   ]
  },
  {
   "cell_type": "code",
   "execution_count": null,
   "id": "8941f9eb",
   "metadata": {},
   "outputs": [
    {
     "name": "stdout",
     "output_type": "stream",
     "text": [
      "255\n"
     ]
    }
   ],
   "source": [
    "#  Find the sum of all values in {'math': 85, 'science': 92, 'english': 78}\n",
    "student_scores = {'math': 85, 'science': 92, 'english': 78}\n",
    "total = sum(student_scores.values())\n",
    "print(total)"
   ]
  },
  {
   "cell_type": "code",
   "execution_count": null,
   "id": "43384633",
   "metadata": {},
   "outputs": [
    {
     "name": "stdout",
     "output_type": "stream",
     "text": [
      "{1: 1, 2: 4, 3: 9, 4: 16, 5: 25}\n"
     ]
    }
   ],
   "source": [
    "#  Create a dictionary with squares of numbers 1 to 5\n",
    "squares = {i: i**2 for i in range(1, 6)}\n",
    "print(squares)"
   ]
  },
  {
   "cell_type": "code",
   "execution_count": null,
   "id": "80c96d86",
   "metadata": {},
   "outputs": [
    {
     "name": "stdout",
     "output_type": "stream",
     "text": [
      "{'a': 1, 'b': 2, 'c': 3, 'd': 4}\n"
     ]
    }
   ],
   "source": [
    "#  Merge two dictionaries {'a': 1, 'b': 2} and {'c': 3, 'd': 4}\n",
    "a = {'a': 1, 'b': 2}\n",
    "b = {'c': 3, 'd': 4}\n",
    "merged_dict = {**a, **b}\n",
    "print(merged_dict)"
   ]
  },
  {
   "cell_type": "code",
   "execution_count": null,
   "id": "805f5d0f",
   "metadata": {},
   "outputs": [],
   "source": [
    "# Create a 3-level nested dictionary: {'company': {'department': {'employee': {'name': 'John', 'id': 123}}}}\n",
    "nested_dict = {\n",
    "    'company': {\n",
    "        'department': {\n",
    "            'employee': {\n",
    "                'name': 'John',\n",
    "                'id': 123\n",
    "            }\n",
    "        }\n",
    "    }\n",
    "}"
   ]
  },
  {
   "cell_type": "code",
   "execution_count": 14,
   "id": "c98e08a5",
   "metadata": {},
   "outputs": [
    {
     "name": "stdout",
     "output_type": "stream",
     "text": [
      "Key: name, Value: Alice, Type: <class 'str'>\n",
      "Key: age, Value: 30, Type: <class 'int'>\n",
      "Key: is_student, Value: False, Type: <class 'bool'>\n"
     ]
    }
   ],
   "source": [
    "# Question 22: Check data type of each value in mixed dictionary\n",
    "mixed_dict = {'name': 'Alice', 'age': 30, 'is_student': False}\n",
    "for key, value in mixed_dict.items():\n",
    "    print(f\"Key: {key}, Value: {value}, Type: {type(value)}\")"
   ]
  },
  {
   "cell_type": "code",
   "execution_count": null,
   "id": "3969dc25",
   "metadata": {},
   "outputs": [
    {
     "name": "stdout",
     "output_type": "stream",
     "text": [
      "5\n"
     ]
    }
   ],
   "source": [
    "# Create a dictionary with function values: {'len': len, 'str': str, 'int': int}\n",
    "function_dict = {\n",
    "    'len': len,\n",
    "    'str': str,\n",
    "    'int': int\n",
    "}\n",
    "print(function_dict['len'](\"Hello\"))  # Output: 5   "
   ]
  },
  {
   "cell_type": "code",
   "execution_count": 17,
   "id": "aae12604",
   "metadata": {},
   "outputs": [
    {
     "name": "stdout",
     "output_type": "stream",
     "text": [
      "2\n"
     ]
    }
   ],
   "source": [
    "# Count True values in boolean dictionary\n",
    "bool_dict = {'a': True, 'b': False, 'c': True, 'd': False}\n",
    "true_count = sum(value is True for value in bool_dict.values())\n",
    "print(true_count)"
   ]
  },
  {
   "cell_type": "code",
   "execution_count": 19,
   "id": "7d975271",
   "metadata": {},
   "outputs": [
    {
     "name": "stdout",
     "output_type": "stream",
     "text": [
      "(4+6j)\n"
     ]
    }
   ],
   "source": [
    "# Create a dictionary with complex numbers: {'z1': 3+4j, 'z2': 1+2j}\n",
    "complex_dict = {\n",
    "    'z1': 3 + 4j,\n",
    "    'z2': 1 + 2j\n",
    "}\n",
    "print(complex_dict['z1'] + complex_dict['z2'])  # Output: (4+6j)"
   ]
  },
  {
   "cell_type": "code",
   "execution_count": 22,
   "id": "dcc26a85",
   "metadata": {},
   "outputs": [],
   "source": [
    "# Create a 4-level nested dictionary\n",
    "nested_dict = {\n",
    "    'level1': {\n",
    "        'level2': {\n",
    "            'level3': {\n",
    "                'level4': 'value'\n",
    "            }\n",
    "        }\n",
    "    }\n",
    "}\n"
   ]
  },
  {
   "cell_type": "code",
   "execution_count": 24,
   "id": "5b2c24fc",
   "metadata": {},
   "outputs": [
    {
     "name": "stdout",
     "output_type": "stream",
     "text": [
      "{'list_1': 6, 'list_2': 9, 'list_3': 30}\n"
     ]
    }
   ],
   "source": [
    "# Find sum of each nested list\n",
    "nested_list = [[1, 2, 3], [4, 5], [6, 7, 8, 9]]\n",
    "sum_dict = {f'list_{i+1}': sum(lst) for i, lst in enumerate(nested_list)}\n",
    "print(sum_dict)  # Output: {'list_1': 6, 'list_2': 9, 'list_3': 30}"
   ]
  }
 ],
 "metadata": {
  "kernelspec": {
   "display_name": "Python 3",
   "language": "python",
   "name": "python3"
  },
  "language_info": {
   "codemirror_mode": {
    "name": "ipython",
    "version": 3
   },
   "file_extension": ".py",
   "mimetype": "text/x-python",
   "name": "python",
   "nbconvert_exporter": "python",
   "pygments_lexer": "ipython3",
   "version": "3.13.5"
  }
 },
 "nbformat": 4,
 "nbformat_minor": 5
}
