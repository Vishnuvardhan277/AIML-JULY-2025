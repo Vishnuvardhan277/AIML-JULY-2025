{
 "cells": [
  {
   "cell_type": "code",
   "execution_count": 1,
   "id": "075cb197",
   "metadata": {},
   "outputs": [
    {
     "name": "stdout",
     "output_type": "stream",
     "text": [
      "Tuple of first 10 natural numbers: (1, 2, 3, 4, 5, 6, 7, 8, 9, 10)\n"
     ]
    }
   ],
   "source": [
    "# Question 1: Create a tuple of first 10 natural numbers\n",
    "# Answer 1\n",
    "natural_numbers = tuple(range(1, 11))\n",
    "print(\"Tuple of first 10 natural numbers:\", natural_numbers)    "
   ]
  },
  {
   "cell_type": "code",
   "execution_count": 2,
   "id": "ff6dfb0e",
   "metadata": {},
   "outputs": [
    {
     "name": "stdout",
     "output_type": "stream",
     "text": [
      "Length of the tuple: 10\n"
     ]
    }
   ],
   "source": [
    "# Find the length of tuple (1, 2, 3, 4, 5, 6, 7, 8, 9, 10)\n",
    "length_of_tuple = len(natural_numbers)\n",
    "print(\"Length of the tuple:\", length_of_tuple)"
   ]
  },
  {
   "cell_type": "code",
   "execution_count": 3,
   "id": "44548e69",
   "metadata": {},
   "outputs": [
    {
     "data": {
      "text/plain": [
       "10"
      ]
     },
     "execution_count": 3,
     "metadata": {},
     "output_type": "execute_result"
    }
   ],
   "source": [
    "a = (1, 2, 3, 4, 5, 6, 7, 8, 9, 10)\n",
    "len(a)"
   ]
  },
  {
   "cell_type": "code",
   "execution_count": 6,
   "id": "d63aff95",
   "metadata": {},
   "outputs": [
    {
     "name": "stdout",
     "output_type": "stream",
     "text": [
      "3rd element from the tuple: d\n"
     ]
    }
   ],
   "source": [
    "# Access the 3rd element from tuple ('a', 'b', 'c', 'd', 'e')\n",
    "tuple_example = ('a', 'b', 'c', 'd', 'e')\n",
    "tuple_element = tuple_example[3]\n",
    "print(\"3rd element from the tuple:\", tuple_element)"
   ]
  },
  {
   "cell_type": "code",
   "execution_count": 8,
   "id": "932d5492",
   "metadata": {},
   "outputs": [
    {
     "name": "stdout",
     "output_type": "stream",
     "text": [
      "Min value in the tuple: 12\n"
     ]
    }
   ],
   "source": [
    "# Find the maximum value in tuple (23, 45, 12, 67, 34, 89, 56)\n",
    "tuple_values = (23, 45, 12, 67, 34, 89, 56)\n",
    "min_value = min(tuple_values)\n",
    "print(\"Min value in the tuple:\", min_value)"
   ]
  },
  {
   "cell_type": "code",
   "execution_count": 9,
   "id": "68cf2764",
   "metadata": {},
   "outputs": [
    {
     "name": "stdout",
     "output_type": "stream",
     "text": [
      "Max value in the tuple: 89\n"
     ]
    }
   ],
   "source": [
    "# Find the maximum value in tuple (23, 45, 12, 67, 34, 89, 56)\n",
    "tuple_values = (23, 45, 12, 67, 34, 89, 56)\n",
    "max_value = max(tuple_values)\n",
    "print(\"Max value in the tuple:\", max_value)"
   ]
  },
  {
   "cell_type": "code",
   "execution_count": 10,
   "id": "96d509f8",
   "metadata": {},
   "outputs": [
    {
     "name": "stdout",
     "output_type": "stream",
     "text": [
      "Count of 5 in the tuple: 4\n"
     ]
    }
   ],
   "source": [
    "# Count how many times 5 appears in (1, 5, 2, 5, 3, 5, 4, 5, 6)\n",
    "a = (1, 5, 2, 5, 3, 5, 4, 5, 6)\n",
    "count_of_five = a.count(5)\n",
    "print(\"Count of 5 in the tuple:\", count_of_five)"
   ]
  },
  {
   "cell_type": "code",
   "execution_count": 13,
   "id": "8adf2770",
   "metadata": {},
   "outputs": [
    {
     "name": "stdout",
     "output_type": "stream",
     "text": [
      "Index of 'python' in the tuple: 1\n"
     ]
    }
   ],
   "source": [
    "# Find the index of element 'python' in ('java', 'python', 'c++', 'javascript')\n",
    "a = ('java', 'python', 'c++', 'javascript')\n",
    "a.index('python')\n",
    "print(\"Index of 'python' in the tuple:\", a.index('python')) "
   ]
  },
  {
   "cell_type": "code",
   "execution_count": 14,
   "id": "04435f58",
   "metadata": {},
   "outputs": [
    {
     "name": "stdout",
     "output_type": "stream",
     "text": [
      "Does 25 exist in the tuple? False\n"
     ]
    }
   ],
   "source": [
    "#  Check if 25 exists in tuple (10, 20, 30, 40, 50)\n",
    "a = (10, 20, 30, 40, 50)\n",
    "exists = 25 in a\n",
    "print(\"Does 25 exist in the tuple?\", exists)"
   ]
  },
  {
   "cell_type": "code",
   "execution_count": 16,
   "id": "3e266bb6",
   "metadata": {},
   "outputs": [
    {
     "name": "stdout",
     "output_type": "stream",
     "text": [
      "Tuple of first 5 even numbers: (2, 4, 6, 8, 10)\n"
     ]
    }
   ],
   "source": [
    "# Create a tuple of first 5 even numbers\n",
    "even_numbers = tuple(range(2, 12, 2))\n",
    "print(\"Tuple of first 5 even numbers:\", even_numbers)"
   ]
  },
  {
   "cell_type": "code",
   "execution_count": 17,
   "id": "ed8b7e87",
   "metadata": {},
   "outputs": [
    {
     "name": "stdout",
     "output_type": "stream",
     "text": [
      "Average of the numbers in the tuple: 40.833333333333336\n"
     ]
    }
   ],
   "source": [
    "#  Find the average of numbers in tuple (15, 23, 31, 42, 56, 78)\n",
    "a = (15, 23, 31, 42, 56, 78)\n",
    "average = sum(a) / len(a)\n",
    "print(\"Average of the numbers in the tuple:\", average)  "
   ]
  },
  {
   "cell_type": "code",
   "execution_count": null,
   "metadata": {},
   "outputs": [],
   "source": []
  },
  {
   "cell_type": "code",
   "execution_count": null,
   "id": "ecc0cc8b",
   "metadata": {},
   "outputs": [],
   "source": []
  },
  {
   "cell_type": "code",
   "execution_count": null,
   "id": "86bf1642",
   "metadata": {},
   "outputs": [],
   "source": []
  },
  {
   "cell_type": "code",
   "execution_count": null,
   "id": "d440ef60",
   "metadata": {},
   "outputs": [],
   "source": []
  }
 ],
 "metadata": {
  "kernelspec": {
   "display_name": "Python 3",
   "language": "python",
   "name": "python3"
  },
  "language_info": {
   "codemirror_mode": {
    "name": "ipython",
    "version": 3
   },
   "file_extension": ".py",
   "mimetype": "text/x-python",
   "name": "python",
   "nbconvert_exporter": "python",
   "pygments_lexer": "ipython3",
   "version": "3.13.5"
  }
 },
 "nbformat": 4,
 "nbformat_minor": 5
}
