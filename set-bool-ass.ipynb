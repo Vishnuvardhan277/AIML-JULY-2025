{
 "cells": [
  {
   "cell_type": "code",
   "execution_count": 9,
   "id": "c14b07fb",
   "metadata": {},
   "outputs": [
    {
     "data": {
      "text/plain": [
       "{1, 2, 3, 4, 5, 11}"
      ]
     },
     "execution_count": 9,
     "metadata": {},
     "output_type": "execute_result"
    }
   ],
   "source": [
    "# Question 2: Add element 11 to set {1, 2, 3, 4, 5}\n",
    "s={1,2,3,4,5}\n",
    "s.add(11)\n",
    "s"
   ]
  },
  {
   "cell_type": "code",
   "execution_count": 10,
   "id": "bd0aea50",
   "metadata": {},
   "outputs": [
    {
     "data": {
      "text/plain": [
       "{1, 2, 4, 5, 6}"
      ]
     },
     "execution_count": 10,
     "metadata": {},
     "output_type": "execute_result"
    }
   ],
   "source": [
    "# Question 3: Remove element 3 from set {1, 2, 3, 4, 5, 6}\n",
    "s={1,2,3,4,5,6}\n",
    "s.remove(3)\n",
    "s"
   ]
  },
  {
   "cell_type": "code",
   "execution_count": 11,
   "id": "bce997c5",
   "metadata": {},
   "outputs": [
    {
     "data": {
      "text/plain": [
       "{4, 5}"
      ]
     },
     "execution_count": 11,
     "metadata": {},
     "output_type": "execute_result"
    }
   ],
   "source": [
    "# Question 4: Find the intersection of {1, 2, 3, 4, 5} and {4, 5, 6, 7, 8}\n",
    "a={1,2,3,4,5}\n",
    "b={4,5,6,7,8}\n",
    "a.intersection(b)"
   ]
  },
  {
   "cell_type": "code",
   "execution_count": 12,
   "id": "b7f463c0",
   "metadata": {},
   "outputs": [
    {
     "data": {
      "text/plain": [
       "{1, 2, 3}"
      ]
     },
     "execution_count": 12,
     "metadata": {},
     "output_type": "execute_result"
    }
   ],
   "source": [
    "# Question 5: Find the difference between {1, 2, 3, 4, 5} and {4, 5, 6, 7, 8}\n",
    "x={1,2,3,4,5}\n",
    "y={4,5,6,7,8}\n",
    "x.difference(y)\n"
   ]
  },
  {
   "cell_type": "code",
   "execution_count": 13,
   "id": "30af6c98",
   "metadata": {},
   "outputs": [
    {
     "data": {
      "text/plain": [
       "False"
      ]
     },
     "execution_count": 13,
     "metadata": {},
     "output_type": "execute_result"
    }
   ],
   "source": [
    "# Question 6: Check if 5 is in set {1, 2, 3, 4, 6, 7, 8}\n",
    "s = {1, 2, 3, 4, 6, 7, 8}\n",
    "5 in s"
   ]
  },
  {
   "cell_type": "code",
   "execution_count": 14,
   "id": "3c1abf9c",
   "metadata": {},
   "outputs": [
    {
     "data": {
      "text/plain": [
       "5"
      ]
     },
     "execution_count": 14,
     "metadata": {},
     "output_type": "execute_result"
    }
   ],
   "source": [
    "# Question 7: Find the length of set {'a', 'b', 'c', 'd', 'e'}\n",
    "z={'a','b','c','d','e'}\n",
    "len(z)"
   ]
  },
  {
   "cell_type": "code",
   "execution_count": 15,
   "id": "211efc92",
   "metadata": {},
   "outputs": [
    {
     "name": "stdout",
     "output_type": "stream",
     "text": [
      "{'o', 'e'}\n"
     ]
    }
   ],
   "source": [
    "# Question 8: Create a set of vowels from string \"hello world\"\n",
    "s=\"hello world\"\n",
    "t=set()\n",
    "for i in s:\n",
    "    if i in \"aeiou\":\n",
    "        t.add(i)\n",
    "print(t)        "
   ]
  },
  {
   "cell_type": "code",
   "execution_count": 16,
   "id": "aa7e4d48",
   "metadata": {},
   "outputs": [
    {
     "data": {
      "text/plain": [
       "{1, 2, 3, 4, 5, 6, 7}"
      ]
     },
     "execution_count": 16,
     "metadata": {},
     "output_type": "execute_result"
    }
   ],
   "source": [
    "# Question 9: Remove duplicates from list [1, 2, 2, 3, 4, 4, 5, 6, 6, 7] using set\n",
    "lst=[1, 2, 2, 3, 4, 4, 5, 6, 6, 7]\n",
    "x=set(lst)\n",
    "x"
   ]
  },
  {
   "cell_type": "code",
   "execution_count": 17,
   "id": "90294946",
   "metadata": {},
   "outputs": [
    {
     "data": {
      "text/plain": [
       "True"
      ]
     },
     "execution_count": 17,
     "metadata": {},
     "output_type": "execute_result"
    }
   ],
   "source": [
    "# Question 10: Check if {1, 2, 3} is a subset of {1, 2, 3, 4, 5, 6}\n",
    "a={1,2,3}\n",
    "b={1,2,3,4,5,6}\n",
    "a.issubset(b)"
   ]
  },
  {
   "cell_type": "code",
   "execution_count": null,
   "id": "e9595577",
   "metadata": {},
   "outputs": [],
   "source": [
    "# Boolean Assignment"
   ]
  },
  {
   "cell_type": "code",
   "execution_count": 92,
   "id": "2abea67b",
   "metadata": {},
   "outputs": [
    {
     "name": "stdout",
     "output_type": "stream",
     "text": [
      "SOLVED EXAMPLE:\n",
      "Check if a number is both even and greater than 10\n",
      "Number: 16\n",
      "Is even: True\n",
      "Is greater than 10: True\n",
      "Both conditions: True\n",
      "--------------------------------------------------\n"
     ]
    }
   ],
   "source": [
    "# SOLVED EXAMPLE\n",
    "# --------------\n",
    "# Question: Check if a number is both even and greater than 10\n",
    "print(\"SOLVED EXAMPLE:\")\n",
    "print(\"Check if a number is both even and greater than 10\")\n",
    "number = 16\n",
    "is_even = number % 2 == 0\n",
    "is_greater_than_10 = number > 10\n",
    "result = is_even and is_greater_than_10\n",
    "print(f\"Number: {number}\")\n",
    "print(f\"Is even: {is_even}\")\n",
    "print(f\"Is greater than 10: {is_greater_than_10}\")\n",
    "print(f\"Both conditions: {result}\")\n",
    "print(\"-\" * 50)"
   ]
  },
  {
   "cell_type": "code",
   "execution_count": null,
   "id": "5200a0d8",
   "metadata": {},
   "outputs": [
    {
     "name": "stdout",
     "output_type": "stream",
     "text": [
      "True\n"
     ]
    }
   ],
   "source": [
    "# Question 1: Check if 25 is greater than 20 and less than 30\n",
    "print(25>20 and 25<30)"
   ]
  },
  {
   "cell_type": "code",
   "execution_count": null,
   "id": "34103df2",
   "metadata": {},
   "outputs": [
    {
     "name": "stdout",
     "output_type": "stream",
     "text": [
      "\n",
      "Question 2: Check if string 'python' is equal to 'Python' (case sensitive)\n",
      "False\n"
     ]
    }
   ],
   "source": [
    "# Question 2: Check if string \"python\" is equal to \"Python\" (case sensitive)\n",
    "print(\"python\"==\"Python\")"
   ]
  },
  {
   "cell_type": "code",
   "execution_count": null,
   "id": "75edf0c1",
   "metadata": {},
   "outputs": [
    {
     "name": "stdout",
     "output_type": "stream",
     "text": [
      "\n",
      "Question 3: Check if 15 is divisible by both 3 and 5\n",
      "Yes\n"
     ]
    }
   ],
   "source": [
    "# Question 3: Check if 15 is divisible by both 3 and 5\n",
    "if 15/3 and 15/5:\n",
    "    print(\"Yes\")\n",
    "else:\n",
    "    print(\"False\")    \n"
   ]
  },
  {
   "cell_type": "code",
   "execution_count": 19,
   "id": "02148595",
   "metadata": {},
   "outputs": [
    {
     "name": "stdout",
     "output_type": "stream",
     "text": [
      "True\n"
     ]
    }
   ],
   "source": [
    "# Question 4: Check if 7 is not equal to 8\n",
    "print(7!=8)"
   ]
  },
  {
   "cell_type": "code",
   "execution_count": 100,
   "id": "a710b34d",
   "metadata": {},
   "outputs": [
    {
     "name": "stdout",
     "output_type": "stream",
     "text": [
      "\n",
      "Question 5: Check if 100 is greater than 50 or less than 25\n",
      "True\n"
     ]
    }
   ],
   "source": [
    "# Question 5: Check if 100 is greater than 50 or less than 25\n",
    "print(\"\\nQuestion 5: Check if 100 is greater than 50 or less than 25\")\n",
    "# Your code here\n",
    "print(100>50 or 100<25)"
   ]
  },
  {
   "cell_type": "code",
   "execution_count": 20,
   "id": "19910a75",
   "metadata": {},
   "outputs": [
    {
     "data": {
      "text/plain": [
       "True"
      ]
     },
     "execution_count": 20,
     "metadata": {},
     "output_type": "execute_result"
    }
   ],
   "source": [
    "# Question 6: Check if 0 is falsy in Python\n",
    "0 in[False]"
   ]
  },
  {
   "cell_type": "code",
   "execution_count": null,
   "id": "295d2a6b",
   "metadata": {},
   "outputs": [
    {
     "data": {
      "text/plain": [
       "False"
      ]
     },
     "execution_count": 21,
     "metadata": {},
     "output_type": "execute_result"
    }
   ],
   "source": [
    "# Question 7: Check if empty string \"\" is falsy in Python\n",
    "' ' in [False]"
   ]
  },
  {
   "cell_type": "code",
   "execution_count": 112,
   "id": "5e8c97a5",
   "metadata": {},
   "outputs": [
    {
     "name": "stdout",
     "output_type": "stream",
     "text": [
      "\n",
      "Question 9: Check if 10 is between 5 and 15 (inclusive)\n",
      "True\n"
     ]
    }
   ],
   "source": [
    "# Question 9: Check if 10 is between 5 and 15 (inclusive)\n",
    "print(\"\\nQuestion 9: Check if 10 is between 5 and 15 (inclusive)\")\n",
    "# Your code here\n",
    "print(5<=10<=15)"
   ]
  },
  {
   "cell_type": "code",
   "execution_count": 113,
   "id": "a6ba181b",
   "metadata": {},
   "outputs": [
    {
     "name": "stdout",
     "output_type": "stream",
     "text": [
      "\n",
      "Question 10: Check if 3.14 is greater than 3 and less than 4\n",
      "True\n"
     ]
    }
   ],
   "source": [
    "# Question 10: Check if 3.14 is greater than 3 and less than 4\n",
    "print(\"\\nQuestion 10: Check if 3.14 is greater than 3 and less than 4\")\n",
    "# Your code here \n",
    "print(3<3.14<4)"
   ]
  },
  {
   "cell_type": "code",
   "execution_count": null,
   "id": "0744fd7e",
   "metadata": {},
   "outputs": [],
   "source": [
    "# None Assignment"
   ]
  },
  {
   "cell_type": "code",
   "execution_count": 114,
   "id": "c8f90dcd",
   "metadata": {},
   "outputs": [
    {
     "name": "stdout",
     "output_type": "stream",
     "text": [
      "SOLVED EXAMPLE:\n",
      "Check if a variable is None\n",
      "Variable: None\n",
      "Is None: True\n",
      "--------------------------------------------------\n"
     ]
    }
   ],
   "source": [
    "# SOLVED EXAMPLE\n",
    "# --------------\n",
    "# Question: Check if a variable is None\n",
    "print(\"SOLVED EXAMPLE:\")\n",
    "print(\"Check if a variable is None\")\n",
    "variable = None\n",
    "is_none = variable is None\n",
    "print(f\"Variable: {variable}\")\n",
    "print(f\"Is None: {is_none}\")\n",
    "print(\"-\" * 50)"
   ]
  },
  {
   "cell_type": "code",
   "execution_count": 115,
   "id": "ddbc591a",
   "metadata": {},
   "outputs": [
    {
     "name": "stdout",
     "output_type": "stream",
     "text": [
      "Question 1: Create a variable and assign None to it\n"
     ]
    },
    {
     "data": {
      "text/plain": [
       "'None'"
      ]
     },
     "execution_count": 115,
     "metadata": {},
     "output_type": "execute_result"
    }
   ],
   "source": [
    " #Question 1: Create a variable and assign None to it\n",
    "print(\"Question 1: Create a variable and assign None to it\")\n",
    "# Your code here\n",
    "VAR='None'\n",
    "VAR"
   ]
  },
  {
   "cell_type": "code",
   "execution_count": 117,
   "id": "df0507c6",
   "metadata": {},
   "outputs": [
    {
     "name": "stdout",
     "output_type": "stream",
     "text": [
      "\n",
      "Question 2: Check if None equals None\n",
      "True\n"
     ]
    }
   ],
   "source": [
    "# Question 2: Check if None equals None\n",
    "print(\"\\nQuestion 2: Check if None equals None\")\n",
    "# Your code here\n",
    "print(None==None)"
   ]
  },
  {
   "cell_type": "code",
   "execution_count": 118,
   "id": "87d04fc1",
   "metadata": {},
   "outputs": [
    {
     "name": "stdout",
     "output_type": "stream",
     "text": [
      "\n",
      "Question 3: Check if None is None\n",
      "True\n"
     ]
    }
   ],
   "source": [
    "# Question 3: Check if None is None\n",
    "print(\"\\nQuestion 3: Check if None is None\")\n",
    "# Your code here\n",
    "print(None is None)"
   ]
  },
  {
   "cell_type": "code",
   "execution_count": 120,
   "id": "d09d678c",
   "metadata": {},
   "outputs": [
    {
     "name": "stdout",
     "output_type": "stream",
     "text": [
      "\n",
      "Question 4: Check if 0 is None\n",
      "False\n"
     ]
    }
   ],
   "source": [
    "# Question 4: Check if 0 is None\n",
    "print(\"\\nQuestion 4: Check if 0 is None\")\n",
    "# Your code here\n",
    "print(0 is None)\n"
   ]
  },
  {
   "cell_type": "code",
   "execution_count": 122,
   "id": "b2f74948",
   "metadata": {},
   "outputs": [
    {
     "name": "stdout",
     "output_type": "stream",
     "text": [
      "\n",
      "Question 5: Check if empty string is None\n"
     ]
    },
    {
     "data": {
      "text/plain": [
       "False"
      ]
     },
     "execution_count": 122,
     "metadata": {},
     "output_type": "execute_result"
    }
   ],
   "source": [
    "# Question 5: Check if empty string is None\n",
    "print(\"\\nQuestion 5: Check if empty string is None\")\n",
    "# Your code here\n",
    "' ' is None\n"
   ]
  },
  {
   "cell_type": "code",
   "execution_count": 123,
   "id": "dbb13106",
   "metadata": {},
   "outputs": [
    {
     "name": "stdout",
     "output_type": "stream",
     "text": [
      "\n",
      "Question 6: Check if False is None\n"
     ]
    },
    {
     "data": {
      "text/plain": [
       "False"
      ]
     },
     "execution_count": 123,
     "metadata": {},
     "output_type": "execute_result"
    }
   ],
   "source": [
    "# Question 6: Check if False is None\n",
    "print(\"\\nQuestion 6: Check if False is None\")\n",
    "# Your code here\n",
    "False is None\n"
   ]
  },
  {
   "cell_type": "code",
   "execution_count": 125,
   "id": "78a578fa",
   "metadata": {},
   "outputs": [
    {
     "name": "stdout",
     "output_type": "stream",
     "text": [
      "\n",
      "Question 7: Check if empty list is None\n"
     ]
    },
    {
     "data": {
      "text/plain": [
       "False"
      ]
     },
     "execution_count": 125,
     "metadata": {},
     "output_type": "execute_result"
    }
   ],
   "source": [
    "# Question 7: Check if empty list is None\n",
    "print(\"\\nQuestion 7: Check if empty list is None\")\n",
    "# Your code here\n",
    "[] is None\n"
   ]
  },
  {
   "cell_type": "code",
   "execution_count": 126,
   "id": "b5336489",
   "metadata": {},
   "outputs": [
    {
     "name": "stdout",
     "output_type": "stream",
     "text": [
      "\n",
      "Question 8: Check if empty dictionary is None\n"
     ]
    },
    {
     "data": {
      "text/plain": [
       "False"
      ]
     },
     "execution_count": 126,
     "metadata": {},
     "output_type": "execute_result"
    }
   ],
   "source": [
    "\n",
    "# Question 8: Check if empty dictionary is None\n",
    "print(\"\\nQuestion 8: Check if empty dictionary is None\")\n",
    "# Your code here\n",
    "{} is None"
   ]
  },
  {
   "cell_type": "code",
   "execution_count": 1,
   "id": "5e657496",
   "metadata": {},
   "outputs": [
    {
     "name": "stdout",
     "output_type": "stream",
     "text": [
      "\n",
      "Question 10: Check if empty set is None\n"
     ]
    },
    {
     "data": {
      "text/plain": [
       "False"
      ]
     },
     "execution_count": 1,
     "metadata": {},
     "output_type": "execute_result"
    }
   ],
   "source": [
    "# Question 10: Check if empty set is None\n",
    "print(\"\\nQuestion 10: Check if empty set is None\")\n",
    "# Your code here \n",
    "{} is None"
   ]
  },
  {
   "cell_type": "code",
   "execution_count": null,
   "id": "6fc1135b",
   "metadata": {},
   "outputs": [],
   "source": [
    "# complex_assignment"
   ]
  },
  {
   "cell_type": "code",
   "execution_count": 129,
   "id": "439635f4",
   "metadata": {},
   "outputs": [
    {
     "name": "stdout",
     "output_type": "stream",
     "text": [
      "SOLVED EXAMPLE:\n",
      "Create a complex number and find its conjugate\n",
      "Complex number: (3+4j)\n",
      "Conjugate: (3-4j)\n",
      "Magnitude: 5.0\n",
      "--------------------------------------------------\n"
     ]
    }
   ],
   "source": [
    "# SOLVED EXAMPLE\n",
    "# --------------\n",
    "# Question: Create a complex number and find its conjugate\n",
    "print(\"SOLVED EXAMPLE:\")\n",
    "print(\"Create a complex number and find its conjugate\")\n",
    "z = 3 + 4j\n",
    "conjugate = z.conjugate()\n",
    "magnitude = abs(z)\n",
    "print(f\"Complex number: {z}\")\n",
    "print(f\"Conjugate: {conjugate}\")\n",
    "print(f\"Magnitude: {magnitude}\")\n",
    "print(\"-\" * 50)"
   ]
  },
  {
   "cell_type": "code",
   "execution_count": 130,
   "id": "b0ab1678",
   "metadata": {},
   "outputs": [
    {
     "name": "stdout",
     "output_type": "stream",
     "text": [
      "Question 1: Create complex number 5 + 3j\n"
     ]
    },
    {
     "data": {
      "text/plain": [
       "(5+3j)"
      ]
     },
     "execution_count": 130,
     "metadata": {},
     "output_type": "execute_result"
    }
   ],
   "source": [
    "# Question 1: Create complex number 5 + 3j\n",
    "print(\"Question 1: Create complex number 5 + 3j\")\n",
    "# Your code here\n",
    "X=5+3j\n",
    "X"
   ]
  },
  {
   "cell_type": "code",
   "execution_count": 135,
   "id": "4e80281c",
   "metadata": {},
   "outputs": [
    {
     "name": "stdout",
     "output_type": "stream",
     "text": [
      "\n",
      "Question 2: Find the real part of complex number 7 - 2j\n"
     ]
    },
    {
     "data": {
      "text/plain": [
       "7.0"
      ]
     },
     "execution_count": 135,
     "metadata": {},
     "output_type": "execute_result"
    }
   ],
   "source": [
    "# Question 2: Find the real part of complex number 7 - 2j\n",
    "print(\"\\nQuestion 2: Find the real part of complex number 7 - 2j\")\n",
    "# Your code here\n",
    "c=7-2j\n",
    "c.real\n"
   ]
  },
  {
   "cell_type": "code",
   "execution_count": 136,
   "id": "9187cbff",
   "metadata": {},
   "outputs": [
    {
     "name": "stdout",
     "output_type": "stream",
     "text": [
      "\n",
      "Question 3: Find the imaginary part of complex number 4 + 6j\n"
     ]
    },
    {
     "data": {
      "text/plain": [
       "6.0"
      ]
     },
     "execution_count": 136,
     "metadata": {},
     "output_type": "execute_result"
    }
   ],
   "source": [
    "# Question 3: Find the imaginary part of complex number 4 + 6j\n",
    "print(\"\\nQuestion 3: Find the imaginary part of complex number 4 + 6j\")\n",
    "# Your code here\n",
    "x=4+6j\n",
    "x.imag"
   ]
  },
  {
   "cell_type": "code",
   "execution_count": 137,
   "id": "3cf38512",
   "metadata": {},
   "outputs": [
    {
     "name": "stdout",
     "output_type": "stream",
     "text": [
      "\n",
      "Question 4: Add two complex numbers: (3 + 2j) and (1 + 4j)\n",
      "(4+5j)\n"
     ]
    }
   ],
   "source": [
    "# Question 4: Add two complex numbers: (3 + 2j) and (1 + 4j)\n",
    "print(\"\\nQuestion 4: Add two complex numbers: (3 + 2j) and (1 + 4j)\")\n",
    "# Your code here\n",
    "x=3+2j\n",
    "y=1+3j\n",
    "print(x+y)"
   ]
  },
  {
   "cell_type": "code",
   "execution_count": 139,
   "id": "185c9839",
   "metadata": {},
   "outputs": [
    {
     "name": "stdout",
     "output_type": "stream",
     "text": [
      "\n",
      "Question 5: Multiply two complex numbers: (2 + 3j) and (1 + 2j)\n",
      "(-4+7j)\n"
     ]
    }
   ],
   "source": [
    "# Question 5: Multiply two complex numbers: (2 + 3j) and (1 + 2j)\n",
    "print(\"\\nQuestion 5: Multiply two complex numbers: (2 + 3j) and (1 + 2j)\")\n",
    "# Your code here\n",
    "x=(2+3j)\n",
    "y=(1+2j)\n",
    "print(x*y)"
   ]
  },
  {
   "cell_type": "code",
   "execution_count": 143,
   "id": "44059ac1",
   "metadata": {},
   "outputs": [
    {
     "name": "stdout",
     "output_type": "stream",
     "text": [
      "\n",
      "Question 6: Find the magnitude of complex number 6 + 8j\n",
      "10.0\n"
     ]
    }
   ],
   "source": [
    "# Question 6: Find the magnitude of complex number 6 + 8j\n",
    "print(\"\\nQuestion 6: Find the magnitude of complex number 6 + 8j\")\n",
    "# Your code here\n",
    "import math\n",
    "x=6+8j\n",
    "magnitude=abs(x)\n",
    "print(magnitude)\n",
    "\n"
   ]
  },
  {
   "cell_type": "code",
   "execution_count": 6,
   "id": "d8c5d3af",
   "metadata": {},
   "outputs": [
    {
     "name": "stdout",
     "output_type": "stream",
     "text": [
      "(5+7j)\n"
     ]
    }
   ],
   "source": [
    "# Question 7: Find the conjugate of complex number 5 - 7j\n",
    "x=5-7j\n",
    "y=x.conjugate()\n",
    "print(y)"
   ]
  },
  {
   "cell_type": "code",
   "execution_count": 5,
   "id": "808f683c",
   "metadata": {},
   "outputs": [
    {
     "name": "stdout",
     "output_type": "stream",
     "text": [
      "(7+3j)\n"
     ]
    }
   ],
   "source": [
    "# Question 8: Subtract complex numbers: (10 + 5j) - (3 + 2j)\n",
    "print((10 + 5j) - (3 + 2j))"
   ]
  },
  {
   "cell_type": "code",
   "execution_count": 4,
   "id": "52248892",
   "metadata": {},
   "outputs": [
    {
     "name": "stdout",
     "output_type": "stream",
     "text": [
      "(4.4+0.8j)\n"
     ]
    }
   ],
   "source": [
    "# Question 9: Divide complex numbers: (8 + 6j) / (2 + 1j)\n",
    "print((8 + 6j) / (2 + 1j))"
   ]
  },
  {
   "cell_type": "code",
   "execution_count": 3,
   "id": "d531ba4d",
   "metadata": {},
   "outputs": [
    {
     "data": {
      "text/plain": [
       "0.7853981633974483"
      ]
     },
     "execution_count": 3,
     "metadata": {},
     "output_type": "execute_result"
    }
   ],
   "source": [
    "# Question 10: Find the phase angle of complex number 1 + 1j\n",
    "import cmath\n",
    "x=1+1j\n",
    "y=cmath.phase(x)\n",
    "y"
   ]
  },
  {
   "cell_type": "code",
   "execution_count": null,
   "id": "3ea5f0a7",
   "metadata": {},
   "outputs": [],
   "source": []
  }
 ],
 "metadata": {
  "kernelspec": {
   "display_name": "Python 3",
   "language": "python",
   "name": "python3"
  },
  "language_info": {
   "codemirror_mode": {
    "name": "ipython",
    "version": 3
   },
   "file_extension": ".py",
   "mimetype": "text/x-python",
   "name": "python",
   "nbconvert_exporter": "python",
   "pygments_lexer": "ipython3",
   "version": "3.13.5"
  }
 },
 "nbformat": 4,
 "nbformat_minor": 5
}
