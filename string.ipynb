{
 "cells": [
  {
   "cell_type": "code",
   "execution_count": 7,
   "id": "4726bb59",
   "metadata": {},
   "outputs": [
    {
     "name": "stdout",
     "output_type": "stream",
     "text": [
      "gnimmargorP nohtyP\n"
     ]
    }
   ],
   "source": [
    "# Question 1: Reverse the string \"Python Programming\"\n",
    "a = \"Python Programming\"\n",
    "a = a[::-1]\n",
    "print(a)  "
   ]
  },
  {
   "cell_type": "code",
   "execution_count": 11,
   "id": "8427a6f4",
   "metadata": {},
   "outputs": [
    {
     "name": "stdout",
     "output_type": "stream",
     "text": [
      "True\n"
     ]
    }
   ],
   "source": [
    "# Question 2: Check if \"racecar\" is a palindrome\n",
    "def is_palindrome(s):\n",
    "    return s == s[::-1]\n",
    "print(is_palindrome(\"racecar\"))"
   ]
  },
  {
   "cell_type": "code",
   "execution_count": 12,
   "id": "360c8e26",
   "metadata": {},
   "outputs": [
    {
     "name": "stdout",
     "output_type": "stream",
     "text": [
      "6\n"
     ]
    }
   ],
   "source": [
    "# Question 3: Count the number of words in \"Python is a great programming language\"\n",
    "def count_words(s):\n",
    "    return len(s.split())\n",
    "print(count_words(\"Python is a great programming language\"))    "
   ]
  },
  {
   "cell_type": "code",
   "execution_count": 14,
   "id": "6f4853de",
   "metadata": {},
   "outputs": [
    {
     "name": "stdout",
     "output_type": "stream",
     "text": [
      "18\n"
     ]
    }
   ],
   "source": [
    "a = \"python programming\"\n",
    "length = len(a)\n",
    "print(length)"
   ]
  },
  {
   "cell_type": "code",
   "execution_count": 15,
   "id": "4ff624bc",
   "metadata": {},
   "outputs": [
    {
     "name": "stdout",
     "output_type": "stream",
     "text": [
      "Hello World\n"
     ]
    }
   ],
   "source": [
    "# Question 4: Convert \"hello world\" to title case\n",
    "def to_title_case(s):\n",
    "    return s.title()\n",
    "print(to_title_case(\"hello world\"))"
   ]
  },
  {
   "cell_type": "code",
   "execution_count": 17,
   "id": "18f178fb",
   "metadata": {},
   "outputs": [
    {
     "name": "stdout",
     "output_type": "stream",
     "text": [
      "Helo World\n"
     ]
    }
   ],
   "source": [
    "a = \"helo world\"\n",
    "to_title_case = a.title()\n",
    "print(to_title_case)"
   ]
  },
  {
   "cell_type": "code",
   "execution_count": 18,
   "id": "937dca88",
   "metadata": {},
   "outputs": [
    {
     "name": "stdout",
     "output_type": "stream",
     "text": [
      "12\n"
     ]
    }
   ],
   "source": [
    "# Question 5: Find the length of string \"Data Science\"\n",
    "a = \"Data Science\"\n",
    "length = len(a)\n",
    "print(length)"
   ]
  },
  {
   "cell_type": "code",
   "execution_count": 23,
   "id": "64c28357",
   "metadata": {},
   "outputs": [
    {
     "name": "stdout",
     "output_type": "stream",
     "text": [
      "False\n"
     ]
    }
   ],
   "source": [
    "# Question 7: Check if \"python\" is in \"Python Programming Language\"\n",
    "def is_substring(sub, string):\n",
    "    return sub in string\n",
    "print(is_substring(\"python\", \"Python Programming Language\"))    "
   ]
  },
  {
   "cell_type": "code",
   "execution_count": 25,
   "id": "e794baaa",
   "metadata": {},
   "outputs": [
    {
     "data": {
      "text/plain": [
       "'BALL'"
      ]
     },
     "execution_count": 25,
     "metadata": {},
     "output_type": "execute_result"
    }
   ],
   "source": [
    "x = \"ball\"\n",
    "x.upper()\n",
    "# x.lower()\n"
   ]
  },
  {
   "cell_type": "code",
   "execution_count": 32,
   "id": "430d3e53",
   "metadata": {},
   "outputs": [
    {
     "name": "stdout",
     "output_type": "stream",
     "text": [
      "Cmptr Scnc\n"
     ]
    }
   ],
   "source": [
    "# Question 10: Remove all vowels from \"Computer Science\"\n",
    "def remove_vowels(s):\n",
    "    vowels = \"aeiouAEIOU\"\n",
    "    return ''.join([char for char in s if char not in vowels])\n",
    "print(remove_vowels(\"Computer Science\"))  "
   ]
  },
  {
   "cell_type": "code",
   "execution_count": 33,
   "id": "ced32866",
   "metadata": {},
   "outputs": [
    {
     "name": "stdout",
     "output_type": "stream",
     "text": [
      "Pythn Prgrmmng\n"
     ]
    }
   ],
   "source": [
    "x = \"Python Programming\"\n",
    "remove_vowels = x.replace(\"a\", \"\").replace(\"e\", \"\").replace(\"i\", \"\").replace(\"o\", \"\").replace(\"u\", \"\")\n",
    "print(remove_vowels)"
   ]
  },
  {
   "cell_type": "code",
   "execution_count": 34,
   "id": "3986cd6d",
   "metadata": {},
   "outputs": [
    {
     "name": "stdout",
     "output_type": "stream",
     "text": [
      "7\n"
     ]
    }
   ],
   "source": [
    "# Question 14: Count consonants in \"Hello World\"\n",
    "def count_consonants(s):\n",
    "    vowels = \"aeiouAEIOU\"\n",
    "    consonants = [char for char in s if char.isalpha() and char not in vowels]\n",
    "    return len(consonants)\n",
    "print(count_consonants(\"Hello World\"))"
   ]
  },
  {
   "cell_type": "code",
   "execution_count": null,
   "id": "18d60148",
   "metadata": {},
   "outputs": [
    {
     "name": "stdout",
     "output_type": "stream",
     "text": [
      "True\n"
     ]
    }
   ],
   "source": [
    "# Check if string contains only digits: \"12345\"\n",
    "def contain_only_letters(s):\n",
    "    return s.isdigit()\n",
    "print(contain_only_letters(\"12345\"))  "
   ]
  },
  {
   "cell_type": "code",
   "execution_count": 47,
   "id": "ad471a77",
   "metadata": {},
   "outputs": [
    {
     "name": "stdout",
     "output_type": "stream",
     "text": [
      "2\n"
     ]
    }
   ],
   "source": [
    "a = \"banana\"\n",
    "position = a.find(\"n\")\n",
    "print(position)   "
   ]
  },
  {
   "cell_type": "code",
   "execution_count": 50,
   "id": "b24bfd95",
   "metadata": {},
   "outputs": [
    {
     "name": "stdout",
     "output_type": "stream",
     "text": [
      "gnimmargorP nohtyP\n"
     ]
    }
   ],
   "source": [
    "x = \"Python Programming\"\n",
    "reverse = x[::-1]\n",
    "print(reverse)"
   ]
  },
  {
   "cell_type": "code",
   "execution_count": 64,
   "id": "4e879f56",
   "metadata": {},
   "outputs": [
    {
     "name": "stdout",
     "output_type": "stream",
     "text": [
      "['a', 'ab', 'abc', 'b', 'bc', 'c']\n"
     ]
    }
   ],
   "source": [
    "# Question 48: Find all substrings of \"abc\"\n",
    "s = \"abc\"\n",
    "substrings = []\n",
    "for i in range(len(s)):\n",
    "    for j in range(i + 1, len(s) + 1):\n",
    "             substrings.append(s[i:j])\n",
    "print(substrings)"
   ]
  }
 ],
 "metadata": {
  "kernelspec": {
   "display_name": "Python 3",
   "language": "python",
   "name": "python3"
  },
  "language_info": {
   "name": "python",
   "version": "3.13.5"
  }
 },
 "nbformat": 4,
 "nbformat_minor": 5
}
