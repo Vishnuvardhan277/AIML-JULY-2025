{
 "cells": [
  {
   "cell_type": "code",
   "execution_count": 5,
   "id": "7d976e83-155a-43ee-a7f8-64cbc7ea6cec",
   "metadata": {},
   "outputs": [
    {
     "name": "stdout",
     "output_type": "stream",
     "text": [
      "Data science\n"
     ]
    }
   ],
   "source": [
    "x=\"data science\"\n",
    "print(x.capitalize())"
   ]
  },
  {
   "cell_type": "code",
   "execution_count": 8,
   "id": "bd1a16d9-383b-4e57-9c5d-a0848ef73067",
   "metadata": {},
   "outputs": [
    {
     "name": "stdout",
     "output_type": "stream",
     "text": [
      "DATA SCIENCE\n"
     ]
    }
   ],
   "source": [
    "x=\"data science\"\n",
    "print(x.upper())"
   ]
  },
  {
   "cell_type": "code",
   "execution_count": 9,
   "id": "029b072f-f0b6-4363-adf3-0e6c64b359e5",
   "metadata": {},
   "outputs": [
    {
     "name": "stdout",
     "output_type": "stream",
     "text": [
      "data science\n"
     ]
    }
   ],
   "source": [
    "x=\"data science\"\n",
    "print(x.lower())"
   ]
  },
  {
   "cell_type": "code",
   "execution_count": 16,
   "id": "87dc65be-329d-4897-a10f-6df0d13261dc",
   "metadata": {},
   "outputs": [
    {
     "name": "stdout",
     "output_type": "stream",
     "text": [
      "DATA SCIENCE\n"
     ]
    }
   ],
   "source": [
    "x=\"data science\"\n",
    "print(x.swapcase())"
   ]
  },
  {
   "cell_type": "code",
   "execution_count": 17,
   "id": "1e8cc92d-c76e-4258-9afe-025a86a5d048",
   "metadata": {},
   "outputs": [
    {
     "name": "stdout",
     "output_type": "stream",
     "text": [
      "Data Science\n"
     ]
    }
   ],
   "source": [
    "x=\"data science\"\n",
    "print(x.title())"
   ]
  },
  {
   "cell_type": "code",
   "execution_count": 18,
   "id": "37379766-42d9-4938-9f80-0d5a2ee2d127",
   "metadata": {},
   "outputs": [
    {
     "name": "stdout",
     "output_type": "stream",
     "text": [
      "data science\n"
     ]
    }
   ],
   "source": [
    "x=\"data science\"\n",
    "print(x.lstrip())"
   ]
  },
  {
   "cell_type": "code",
   "execution_count": 19,
   "id": "64add34e-9c1f-48c2-80a1-22968cb980fd",
   "metadata": {},
   "outputs": [
    {
     "name": "stdout",
     "output_type": "stream",
     "text": [
      "data science\n"
     ]
    }
   ],
   "source": [
    "x=\"data science\"\n",
    "print(x.rstrip())"
   ]
  },
  {
   "cell_type": "code",
   "execution_count": 23,
   "id": "156a79a9-09c8-42a4-b598-e47902f90fb8",
   "metadata": {},
   "outputs": [
    {
     "name": "stdout",
     "output_type": "stream",
     "text": [
      "---data science\n"
     ]
    }
   ],
   "source": [
    "x=\"---data science---\"\n",
    "print(x.rstrip(\"--\"))"
   ]
  },
  {
   "cell_type": "code",
   "execution_count": 24,
   "id": "e8a0bdf9-5686-42f7-9a4e-6b2798b0d1cf",
   "metadata": {},
   "outputs": [
    {
     "name": "stdout",
     "output_type": "stream",
     "text": [
      "                ---data science---                \n"
     ]
    }
   ],
   "source": [
    "x=\"---data science---\"\n",
    "print(x.rstrip(\"--\"))"
   ]
  },
  {
   "cell_type": "code",
   "execution_count": 25,
   "id": "a64b4787-987e-4e29-95f6-e28c8ac5edf9",
   "metadata": {},
   "outputs": [
    {
     "name": "stdout",
     "output_type": "stream",
     "text": [
      "0000000046\n"
     ]
    }
   ],
   "source": [
    "x=\"46\"\n",
    "print(x.zfill(10))"
   ]
  },
  {
   "cell_type": "code",
   "execution_count": 28,
   "id": "d78247c1-00e5-4792-a73b-f0c8095f4989",
   "metadata": {},
   "outputs": [
    {
     "name": "stdout",
     "output_type": "stream",
     "text": [
      "data------\n"
     ]
    }
   ],
   "source": [
    "x=\"data\"\n",
    "print(x.ljust(10,'-'))"
   ]
  },
  {
   "cell_type": "code",
   "execution_count": 46,
   "id": "bb19b309-d884-4040-b104-8fd6b697476b",
   "metadata": {},
   "outputs": [
    {
     "data": {
      "text/plain": [
       "'data'"
      ]
     },
     "execution_count": 46,
     "metadata": {},
     "output_type": "execute_result"
    }
   ],
   "source": [
    "x=\"data           \"\n",
    "x.replace(\" \",\"\")"
   ]
  },
  {
   "cell_type": "code",
   "execution_count": 47,
   "id": "324b1afc-a0cb-4597-9df1-718974207dce",
   "metadata": {},
   "outputs": [
    {
     "data": {
      "text/plain": [
       "'data'"
      ]
     },
     "execution_count": 47,
     "metadata": {},
     "output_type": "execute_result"
    }
   ],
   "source": [
    "x=\"                       data           \"\n",
    "x.replace(\" \",\"\")"
   ]
  },
  {
   "cell_type": "code",
   "execution_count": 52,
   "id": "5f967756-326a-4520-ac08-11025cbb7420",
   "metadata": {},
   "outputs": [
    {
     "name": "stdout",
     "output_type": "stream",
     "text": [
      "2\n"
     ]
    }
   ],
   "source": [
    "x= \"rohit sharma playing cricket\"\n",
    "print(x.find(\"hit\"))"
   ]
  },
  {
   "cell_type": "code",
   "execution_count": 53,
   "id": "ba459965-f15c-41b2-a9b1-99b94a3e27e5",
   "metadata": {},
   "outputs": [
    {
     "name": "stdout",
     "output_type": "stream",
     "text": [
      "0\n"
     ]
    }
   ],
   "source": [
    "x= \"rohit sharma playing cricket\"\n",
    "print(x.find(\"rohit\"))"
   ]
  },
  {
   "cell_type": "code",
   "execution_count": 51,
   "id": "b4163d44-49fc-4cd0-8456-14e110b924bf",
   "metadata": {},
   "outputs": [
    {
     "name": "stdout",
     "output_type": "stream",
     "text": [
      "21\n"
     ]
    }
   ],
   "source": [
    "x= \"rohit sharma playing cricket\"\n",
    "print(x.find(\"cricket\"))"
   ]
  },
  {
   "cell_type": "code",
   "execution_count": 54,
   "id": "28c18871-5644-4f6e-8731-ecd009b15c26",
   "metadata": {},
   "outputs": [
    {
     "name": "stdout",
     "output_type": "stream",
     "text": [
      "-1\n"
     ]
    }
   ],
   "source": [
    "x= \"rohit sharma playing cricket\"\n",
    "print(x.find(\"bat\"))"
   ]
  },
  {
   "cell_type": "code",
   "execution_count": 55,
   "id": "326aa83c-3be7-453e-9e37-df8f72c72778",
   "metadata": {},
   "outputs": [
    {
     "name": "stdout",
     "output_type": "stream",
     "text": [
      "True\n"
     ]
    }
   ],
   "source": [
    "print(\"bat\".isalpha())"
   ]
  },
  {
   "cell_type": "code",
   "execution_count": 56,
   "id": "ec8fa3e5-8d6e-4da7-b659-8d884ad2369a",
   "metadata": {},
   "outputs": [
    {
     "name": "stdout",
     "output_type": "stream",
     "text": [
      "False\n"
     ]
    }
   ],
   "source": [
    "print(\"bat123\".isalpha())"
   ]
  },
  {
   "cell_type": "code",
   "execution_count": 62,
   "id": "fddcdee5-de26-4b0b-b954-a9cdcefce538",
   "metadata": {},
   "outputs": [
    {
     "name": "stdout",
     "output_type": "stream",
     "text": [
      "12\n",
      "18\n"
     ]
    }
   ],
   "source": [
    "s = \"hello world, hello universe\"\n",
    "print(s.rfind(\"hello\")) \n",
    "print(s.rfind(\"universe\")) "
   ]
  },
  {
   "cell_type": "code",
   "execution_count": 66,
   "id": "ea656cdd-7340-4208-bfb3-42988c14372a",
   "metadata": {},
   "outputs": [
    {
     "data": {
      "text/plain": [
       "['d', 't', '']"
      ]
     },
     "execution_count": 66,
     "metadata": {},
     "output_type": "execute_result"
    }
   ],
   "source": [
    "x=\"data\"\n",
    "x.split('a')"
   ]
  },
  {
   "cell_type": "code",
   "execution_count": 67,
   "id": "9b5dd2f3-d3ff-4089-8b86-d12559e93f6b",
   "metadata": {},
   "outputs": [
    {
     "data": {
      "text/plain": [
       "['da', '']"
      ]
     },
     "execution_count": 67,
     "metadata": {},
     "output_type": "execute_result"
    }
   ],
   "source": [
    "x=\"data\"\n",
    "x.split('ta')"
   ]
  },
  {
   "cell_type": "code",
   "execution_count": 68,
   "id": "bc82460f-c95c-4a18-97b4-8c65b61f293b",
   "metadata": {},
   "outputs": [
    {
     "data": {
      "text/plain": [
       "['da', 'a']"
      ]
     },
     "execution_count": 68,
     "metadata": {},
     "output_type": "execute_result"
    }
   ],
   "source": [
    "x=\"data\"\n",
    "x.split('t')"
   ]
  },
  {
   "cell_type": "code",
   "execution_count": 85,
   "id": "f4256eae-2f08-4273-af5d-8c3fc9ff3853",
   "metadata": {},
   "outputs": [
    {
     "data": {
      "text/plain": [
       "'vishnu              vardhan'"
      ]
     },
     "execution_count": 85,
     "metadata": {},
     "output_type": "execute_result"
    }
   ],
   "source": [
    "x=\"vishnu \\t    vardhan\"\n",
    "x.expandtabs(20)"
   ]
  },
  {
   "cell_type": "code",
   "execution_count": null,
   "id": "e3095164-d1c8-40a3-a909-1d01cf111e87",
   "metadata": {},
   "outputs": [],
   "source": [
    "    "
   ]
  },
  {
   "cell_type": "code",
   "execution_count": null,
   "id": "8b8275a9-ebaf-4da9-af3e-dbcdd3492064",
   "metadata": {},
   "outputs": [],
   "source": []
  },
  {
   "cell_type": "code",
   "execution_count": null,
   "id": "21104dbe-05e0-4996-9759-7998b49cbc03",
   "metadata": {},
   "outputs": [],
   "source": []
  },
  {
   "cell_type": "code",
   "execution_count": null,
   "id": "26091f4c-c62f-41af-83f0-f8a3bb6d954c",
   "metadata": {},
   "outputs": [],
   "source": []
  },
  {
   "cell_type": "code",
   "execution_count": null,
   "id": "aea4490f-2124-44c2-85a2-ed493faea0ea",
   "metadata": {},
   "outputs": [],
   "source": []
  },
  {
   "cell_type": "code",
   "execution_count": null,
   "id": "2a718ea1-6d6c-4f9f-a07a-427b2d64f501",
   "metadata": {},
   "outputs": [],
   "source": []
  },
  {
   "cell_type": "code",
   "execution_count": null,
   "id": "a67f30fb-f846-4c60-b267-a27a6aed8aa9",
   "metadata": {},
   "outputs": [],
   "source": []
  },
  {
   "cell_type": "code",
   "execution_count": null,
   "id": "661365dc-2835-4d73-962b-24c28623d14c",
   "metadata": {},
   "outputs": [],
   "source": []
  },
  {
   "cell_type": "code",
   "execution_count": null,
   "id": "bf9c345f-8653-45f5-973d-23c590e3d0b4",
   "metadata": {},
   "outputs": [],
   "source": []
  },
  {
   "cell_type": "code",
   "execution_count": null,
   "id": "12969a9c-0bb0-4c15-942f-3ce0c270bb15",
   "metadata": {},
   "outputs": [],
   "source": []
  },
  {
   "cell_type": "code",
   "execution_count": null,
   "id": "a0b96d69-b39c-4b58-b56f-547aa14069de",
   "metadata": {},
   "outputs": [],
   "source": []
  },
  {
   "cell_type": "code",
   "execution_count": null,
   "id": "f46831ce-f4f0-49ba-93a2-5319dce80976",
   "metadata": {},
   "outputs": [],
   "source": []
  },
  {
   "cell_type": "code",
   "execution_count": null,
   "id": "a9727421-ce78-442f-99b2-6274347a7082",
   "metadata": {},
   "outputs": [],
   "source": []
  },
  {
   "cell_type": "code",
   "execution_count": null,
   "id": "2b226713-5a25-4517-ae77-f5da62d98e5f",
   "metadata": {},
   "outputs": [],
   "source": []
  },
  {
   "cell_type": "code",
   "execution_count": null,
   "id": "5b1592d3-66ee-45ff-b0b1-25343e95a0a0",
   "metadata": {},
   "outputs": [],
   "source": []
  },
  {
   "cell_type": "code",
   "execution_count": null,
   "id": "24610613-7064-4703-9d09-22cd1d33105c",
   "metadata": {},
   "outputs": [],
   "source": []
  },
  {
   "cell_type": "code",
   "execution_count": null,
   "id": "3387582e-e536-47c2-b22c-bc8beca1f4ea",
   "metadata": {},
   "outputs": [],
   "source": []
  },
  {
   "cell_type": "code",
   "execution_count": null,
   "id": "599dc896-62f5-4770-bb0b-d5d74664f831",
   "metadata": {},
   "outputs": [],
   "source": []
  },
  {
   "cell_type": "code",
   "execution_count": null,
   "id": "300e9893-d2d6-413e-aaaa-eb4f4fb712e9",
   "metadata": {},
   "outputs": [],
   "source": []
  },
  {
   "cell_type": "code",
   "execution_count": null,
   "id": "2a0e4388-5cba-4b3b-9401-04787d156ae9",
   "metadata": {},
   "outputs": [],
   "source": []
  },
  {
   "cell_type": "code",
   "execution_count": null,
   "id": "a82a770a-8a9e-45d4-865c-627386b0c79b",
   "metadata": {},
   "outputs": [],
   "source": []
  },
  {
   "cell_type": "code",
   "execution_count": null,
   "id": "1a196bd7-889b-4272-b73e-f3ccad40dbcc",
   "metadata": {},
   "outputs": [],
   "source": []
  },
  {
   "cell_type": "code",
   "execution_count": null,
   "id": "145f131a-9aa3-47e9-9f8a-653950fd5b64",
   "metadata": {},
   "outputs": [],
   "source": []
  },
  {
   "cell_type": "code",
   "execution_count": null,
   "id": "363a8a42-d4b0-46f9-b112-007bb54eb626",
   "metadata": {},
   "outputs": [],
   "source": []
  },
  {
   "cell_type": "code",
   "execution_count": null,
   "id": "ff72fbf6-12ff-4dea-8c29-e98f4bcadf03",
   "metadata": {},
   "outputs": [],
   "source": []
  },
  {
   "cell_type": "code",
   "execution_count": null,
   "id": "44dcdcd9-191b-401e-93b1-784b37abfa7e",
   "metadata": {},
   "outputs": [],
   "source": []
  },
  {
   "cell_type": "code",
   "execution_count": null,
   "id": "5b45235e-5b66-4376-aaf4-f4fd2877d48a",
   "metadata": {},
   "outputs": [],
   "source": []
  },
  {
   "cell_type": "code",
   "execution_count": null,
   "id": "27a0f802-2c18-4ca2-9b12-70188a3b0bb8",
   "metadata": {},
   "outputs": [],
   "source": []
  },
  {
   "cell_type": "code",
   "execution_count": null,
   "id": "ccd9aa07-4a96-4a4b-8c8b-819fe93137f9",
   "metadata": {},
   "outputs": [],
   "source": []
  },
  {
   "cell_type": "code",
   "execution_count": null,
   "id": "1a810ab5-37e5-4a49-b62e-58c53e7b3cbb",
   "metadata": {},
   "outputs": [],
   "source": []
  },
  {
   "cell_type": "code",
   "execution_count": null,
   "id": "3d84034c-989e-4f1f-a041-f9017a1a37c2",
   "metadata": {},
   "outputs": [],
   "source": []
  },
  {
   "cell_type": "code",
   "execution_count": null,
   "id": "a754aefe-4295-430c-91b9-9b7a8888ef36",
   "metadata": {},
   "outputs": [],
   "source": []
  },
  {
   "cell_type": "code",
   "execution_count": null,
   "id": "71974fd4-f77c-4223-9532-2e9e89e58a7f",
   "metadata": {},
   "outputs": [],
   "source": []
  },
  {
   "cell_type": "code",
   "execution_count": null,
   "id": "0047aec5-1a45-4271-bf60-b034088483d6",
   "metadata": {},
   "outputs": [],
   "source": []
  },
  {
   "cell_type": "code",
   "execution_count": null,
   "id": "ebf29e8e-6d16-4a77-8675-4f4df516f0a1",
   "metadata": {},
   "outputs": [],
   "source": []
  },
  {
   "cell_type": "code",
   "execution_count": null,
   "id": "0b431e6f-73f0-4d3a-a446-a25671af817b",
   "metadata": {},
   "outputs": [],
   "source": []
  },
  {
   "cell_type": "code",
   "execution_count": null,
   "id": "c9609982-2cc0-49f9-ac8a-103334a9ba6e",
   "metadata": {},
   "outputs": [],
   "source": []
  },
  {
   "cell_type": "code",
   "execution_count": null,
   "id": "3558e840-9ee4-4f79-8e95-a9a9ae078a23",
   "metadata": {},
   "outputs": [],
   "source": []
  },
  {
   "cell_type": "code",
   "execution_count": null,
   "id": "d7e2f8fe-fcef-492f-9c42-a4a7a6a71829",
   "metadata": {},
   "outputs": [],
   "source": []
  },
  {
   "cell_type": "code",
   "execution_count": null,
   "id": "90eae1fe-d3f4-4cd3-ab84-cf6c2603ae39",
   "metadata": {},
   "outputs": [],
   "source": []
  }
 ],
 "metadata": {
  "kernelspec": {
   "display_name": "Python 3 (ipykernel)",
   "language": "python",
   "name": "python3"
  },
  "language_info": {
   "codemirror_mode": {
    "name": "ipython",
    "version": 3
   },
   "file_extension": ".py",
   "mimetype": "text/x-python",
   "name": "python",
   "nbconvert_exporter": "python",
   "pygments_lexer": "ipython3",
   "version": "3.13.5"
  }
 },
 "nbformat": 4,
 "nbformat_minor": 5
}
