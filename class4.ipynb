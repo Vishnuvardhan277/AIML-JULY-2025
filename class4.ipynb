{
 "cells": [
  {
   "cell_type": "code",
   "execution_count": null,
   "id": "d88628c7",
   "metadata": {},
   "outputs": [],
   "source": [
    "## Dictionary of common words in the English language"
   ]
  },
  {
   "cell_type": "code",
   "execution_count": 6,
   "id": "e1001cce",
   "metadata": {},
   "outputs": [
    {
     "data": {
      "text/plain": [
       "2"
      ]
     },
     "execution_count": 6,
     "metadata": {},
     "output_type": "execute_result"
    }
   ],
   "source": [
    "students = {\"the\": 1, \"be\": 2, \"to\": 3, \"of\": 4, \"and\": 5, \"a\": 6, \"in\": 7, \"that\": 8, \"have\": 9, \"it\": 10,}\n",
    "students['be']"
   ]
  },
  {
   "cell_type": "code",
   "execution_count": 14,
   "id": "bf4e551b",
   "metadata": {},
   "outputs": [
    {
     "data": {
      "text/plain": [
       "{2, 3, 4, 5}"
      ]
     },
     "execution_count": 14,
     "metadata": {},
     "output_type": "execute_result"
    }
   ],
   "source": [
    "x={1,2,3,4,5}\n",
    "y={2,3,4,5,6}\n",
    "# Intersection of two sets\n",
    "x.intersection(y)"
   ]
  },
  {
   "cell_type": "code",
   "execution_count": 15,
   "id": "ac7c8034",
   "metadata": {},
   "outputs": [
    {
     "data": {
      "text/plain": [
       "{1, 2, 3, 4, 5, 6}"
      ]
     },
     "execution_count": 15,
     "metadata": {},
     "output_type": "execute_result"
    }
   ],
   "source": [
    "x={1,2,3,4,5}\n",
    "y={2,3,4,5,6}\n",
    "# Intersection of two sets\n",
    "x.union(y)"
   ]
  },
  {
   "cell_type": "code",
   "execution_count": 16,
   "id": "45428b80",
   "metadata": {},
   "outputs": [],
   "source": [
    "x={1,2,3,4,5}\n",
    "y={2,3,4,5,6}\n"
   ]
  },
  {
   "cell_type": "code",
   "execution_count": 17,
   "id": "c52fa574",
   "metadata": {},
   "outputs": [
    {
     "data": {
      "text/plain": [
       "({1, 2, 3, 4, 5}, {2, 3, 4, 5, 6})"
      ]
     },
     "execution_count": 17,
     "metadata": {},
     "output_type": "execute_result"
    }
   ],
   "source": [
    "x,y"
   ]
  },
  {
   "cell_type": "code",
   "execution_count": 20,
   "id": "91282da1",
   "metadata": {},
   "outputs": [
    {
     "data": {
      "text/plain": [
       "({1, 2, 3, 4, 5}, {6})"
      ]
     },
     "execution_count": 20,
     "metadata": {},
     "output_type": "execute_result"
    }
   ],
   "source": [
    "y.difference_update(x)\n",
    "x,y"
   ]
  },
  {
   "cell_type": "code",
   "execution_count": 21,
   "id": "850235b7",
   "metadata": {},
   "outputs": [
    {
     "data": {
      "text/plain": [
       "(set(), {6})"
      ]
     },
     "execution_count": 21,
     "metadata": {},
     "output_type": "execute_result"
    }
   ],
   "source": [
    "x.difference_update(x)\n",
    "x,y"
   ]
  },
  {
   "cell_type": "code",
   "execution_count": 24,
   "id": "3fa0ea7a",
   "metadata": {},
   "outputs": [
    {
     "data": {
      "text/plain": [
       "{1, 2}"
      ]
     },
     "execution_count": 24,
     "metadata": {},
     "output_type": "execute_result"
    }
   ],
   "source": [
    "x={1,2,3,4,5,6}\n",
    "y={3,4,5,6}\n",
    "x.symmetric_difference(y)"
   ]
  },
  {
   "cell_type": "code",
   "execution_count": 27,
   "id": "2af7f246",
   "metadata": {},
   "outputs": [
    {
     "data": {
      "text/plain": [
       "False"
      ]
     },
     "execution_count": 27,
     "metadata": {},
     "output_type": "execute_result"
    }
   ],
   "source": [
    "x={1,2,3,4,5,6}\n",
    "y={3,4,5,6,7}\n",
    "x.issuperset(y)"
   ]
  },
  {
   "cell_type": "code",
   "execution_count": 28,
   "id": "31256d7f",
   "metadata": {},
   "outputs": [
    {
     "data": {
      "text/plain": [
       "True"
      ]
     },
     "execution_count": 28,
     "metadata": {},
     "output_type": "execute_result"
    }
   ],
   "source": [
    "x={1,2,3,4,5,6}\n",
    "y={3,4,5,6}\n",
    "x.issuperset(y)"
   ]
  },
  {
   "cell_type": "code",
   "execution_count": null,
   "id": "184c8ba9",
   "metadata": {},
   "outputs": [
    {
     "data": {
      "text/plain": [
       "dict"
      ]
     },
     "execution_count": 39,
     "metadata": {},
     "output_type": "execute_result"
    }
   ],
   "source": [
    "## Dictionary\n",
    "d={\"name\": \"John\", \"age\": 30, \"city\": \"New York\"}\n",
    "# type(d)\n",
    "# d[\"age\"]\n",
    "# d[\"city\"]\n"
   ]
  },
  {
   "cell_type": "code",
   "execution_count": null,
   "id": "17f7f82f",
   "metadata": {},
   "outputs": [
    {
     "name": "stdout",
     "output_type": "stream",
     "text": [
      "New York\n",
      "dict_keys(['name', 'age', 'city', 'country'])\n",
      "dict_values(['John', 30, 'New York', 'USA'])\n",
      "dict_items([('name', 'John'), ('age', 30), ('city', 'New York'), ('country', 'USA')])\n",
      "None\n",
      "{'name': 'John', 'age': 30, 'city': 'New York', 'country': 'USA'}\n"
     ]
    }
   ],
   "source": [
    "# print(d.get(\"city\"))\n",
    "# print(d.keys())\n",
    "# print(d.values())\n",
    "# print(d.items())\n",
    "# print(d.update({\"country\": \"USA\"}))\n",
    "# print(d)"
   ]
  },
  {
   "cell_type": "code",
   "execution_count": 30,
   "id": "2a6a6b0c",
   "metadata": {},
   "outputs": [
    {
     "name": "stdout",
     "output_type": "stream",
     "text": [
      "name\n",
      "age\n",
      "city\n"
     ]
    }
   ],
   "source": [
    "for i in {\"name\": \"John\", \"age\": 30, \"city\": \"New York\"}:\n",
    "    print(i)"
   ]
  },
  {
   "cell_type": "code",
   "execution_count": 27,
   "id": "31feb9e2",
   "metadata": {},
   "outputs": [
    {
     "name": "stdout",
     "output_type": "stream",
     "text": [
      "name John\n",
      "age 30\n",
      "city New York\n"
     ]
    }
   ],
   "source": [
    "for i,j in {\"name\": \"John\", \"age\": 30, \"city\": \"New York\"}.items():\n",
    "    print(i,j)"
   ]
  },
  {
   "cell_type": "code",
   "execution_count": 28,
   "id": "bd45db77",
   "metadata": {},
   "outputs": [
    {
     "name": "stdout",
     "output_type": "stream",
     "text": [
      "{'name': 'John', 'age': 30, 'city': 'New York', 'country': 'USA'}\n"
     ]
    }
   ],
   "source": [
    "print(d)"
   ]
  },
  {
   "cell_type": "code",
   "execution_count": null,
   "id": "0ee52d8c",
   "metadata": {},
   "outputs": [],
   "source": []
  }
 ],
 "metadata": {
  "kernelspec": {
   "display_name": "Python 3",
   "language": "python",
   "name": "python3"
  },
  "language_info": {
   "codemirror_mode": {
    "name": "ipython",
    "version": 3
   },
   "file_extension": ".py",
   "mimetype": "text/x-python",
   "name": "python",
   "nbconvert_exporter": "python",
   "pygments_lexer": "ipython3",
   "version": "3.13.5"
  }
 },
 "nbformat": 4,
 "nbformat_minor": 5
}
